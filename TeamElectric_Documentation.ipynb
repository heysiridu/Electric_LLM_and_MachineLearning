{
 "cells": [
  {
   "cell_type": "markdown",
   "metadata": {},
   "source": [
    "## **Team Electric**\n",
    "**Chulhee Kim, Fred Kim, Frank Li, Gufeng Liu, Siri Du**"
   ]
  },
  {
   "cell_type": "markdown",
   "metadata": {},
   "source": [
    "## **Part 1: Data Preprocessing**"
   ]
  },
  {
   "cell_type": "markdown",
   "metadata": {},
   "source": [
    "**Connect to Snowflake**"
   ]
  },
  {
   "cell_type": "code",
   "execution_count": 1,
   "metadata": {},
   "outputs": [
    {
     "name": "stdout",
     "output_type": "stream",
     "text": [
      "Connecting, please check for any MFA notifications.\n"
     ]
    }
   ],
   "source": [
    "# Install snowflake connector: pip install snowflake-connector-python\n",
    "from snowflake.connector.pandas_tools import write_pandas\n",
    "import snowflake.connector as snow\n",
    "import pandas as pd\n",
    "import re\n",
    "import os\n",
    "from tqdm import tqdm\n",
    "import numpy as np\n",
    "\n",
    "# Be aware that MFA will be triggered\n",
    "print(\"Connecting, please check for any MFA notifications.\")\n",
    "\n",
    "# Create a snowflake connection\n",
    "conn = snow.connect(\n",
    "user = \"siri_du\",\n",
    "password = \"Snowflake_1212\",\n",
    "account=\"jdb11657.us-east-1\",\n",
    "warehouse=\"DEFAULT_WAREHOUSE\",\n",
    "database=\"CLASS_DATABASE\",\n",
    "schema=\"ANALYSIS\")"
   ]
  },
  {
   "cell_type": "markdown",
   "metadata": {},
   "source": [
    "**Data Pre-Processing with SQL**\n",
    "1. Drop conversation start with OUT direction (i.e. Agent to User messages)\n",
    "2. Drop conversation with one direction (i.e. conversations that were initiated but never continued)"
   ]
  },
  {
   "cell_type": "code",
   "execution_count": 2,
   "metadata": {},
   "outputs": [
    {
     "data": {
      "text/plain": [
       "<snowflake.connector.cursor.SnowflakeCursor at 0x219939a6360>"
      ]
     },
     "execution_count": 2,
     "metadata": {},
     "output_type": "execute_result"
    }
   ],
   "source": [
    "cur = conn.cursor()\n",
    "\n",
    "cur.execute(\"\"\"\n",
    "CREATE TABLE IF NOT EXISTS CLEAN_DATA_Final as( \n",
    "WITH first_messages AS (\n",
    "    -- Identify the first message in each conversation\n",
    "    SELECT \n",
    "        CONVERSATION_ID,\n",
    "        MESSAGE_ID,\n",
    "        MESSAGE,\n",
    "        MESSAGE_DIRECTION,\n",
    "        SENT_AT,\n",
    "        ROW_NUMBER() OVER (PARTITION BY CONVERSATION_ID ORDER BY SENT_AT ASC) AS row_num\n",
    "    FROM class_shared_data.class_dataset.message_dataset\n",
    "),\n",
    "conversations_starts_with_OUT AS (\n",
    "    -- Select conversations where the first message is OUT-bound\n",
    "    SELECT CONVERSATION_ID\n",
    "    FROM first_messages\n",
    "    WHERE MESSAGE_DIRECTION = 'Out' AND row_num = 1\n",
    "),\n",
    "conversations_with_one_direction AS (\n",
    "    -- Select conversations with only one message direction (IN or OUT)\n",
    "    SELECT CONVERSATION_ID\n",
    "    FROM class_shared_data.class_dataset.message_dataset\n",
    "    GROUP BY CONVERSATION_ID\n",
    "    HAVING COUNT(DISTINCT MESSAGE_DIRECTION) = 1\n",
    "),\n",
    "\n",
    "conversations_to_remove AS (\n",
    "    -- Combine conversations to be removed based on above criteria\n",
    "    SELECT CONVERSATION_ID FROM conversations_with_one_direction\n",
    "    UNION\n",
    "    SELECT CONVERSATION_ID FROM conversations_starts_with_OUT\n",
    "),\n",
    "\n",
    "filtered_messages AS (\n",
    "    -- Filter messages that are not part of conversations to be removed\n",
    "    SELECT *\n",
    "    FROM class_shared_data.class_dataset.message_dataset\n",
    "    WHERE CONVERSATION_ID NOT IN (\n",
    "        SELECT CONVERSATION_ID\n",
    "        FROM conversations_to_remove\n",
    "    )\n",
    "),\n",
    "\n",
    "messages_with_directions AS (\n",
    "    -- Concatenate MESSAGE_DIRECTION and MESSAGE for aggregation\n",
    "    SELECT \n",
    "        CONVERSATION_ID,\n",
    "        CONCAT(MESSAGE_DIRECTION, ':.,', MESSAGE) AS formatted_message,\n",
    "        SENT_AT\n",
    "    FROM filtered_messages\n",
    "),\n",
    "\n",
    "aggregated_messages AS (\n",
    "    -- Aggregate the messages in order of SENT_AT for each conversation\n",
    "    SELECT \n",
    "        CONVERSATION_ID,\n",
    "        MIN(SENT_AT) AS SENT_AT,\n",
    "        LISTAGG(formatted_message, '\\n') WITHIN GROUP (ORDER BY SENT_AT) AS conversation_messages\n",
    "    FROM messages_with_directions\n",
    "    GROUP BY CONVERSATION_ID\n",
    ")\n",
    "\n",
    "SELECT \n",
    "    conv.CONVERSATION_ID,\n",
    "    agg.conversation_messages, \n",
    "    conv.CONVERSATION_CHANNEL,\n",
    "    conv.AGENT_LABELED_CATEGORY,\n",
    "    conv.AGENT_LABELED_APPLICATION,\n",
    "    conv.USER_LABELED_CATEGORY,\n",
    "    conv.TRIAGE_MESSAGES,\n",
    "    agg.SENT_AT    \n",
    "FROM class_shared_data.class_dataset.conversation_dataset AS conv\n",
    "JOIN aggregated_messages AS agg\n",
    "    ON conv.CONVERSATION_ID = agg.CONVERSATION_ID)\n",
    "\"\"\")"
   ]
  },
  {
   "cell_type": "code",
   "execution_count": 3,
   "metadata": {},
   "outputs": [],
   "source": [
    "# Read the data from the table created above\n",
    "cur = conn.cursor()\n",
    "cur.execute(\"\"\"\n",
    "select * from CLEAN_DATA_Final   -- Match the table name with the one you created\n",
    "\"\"\")\n",
    "\n",
    "# Fetch all the results from the query\n",
    "results = cur.fetchall()\n",
    "\n",
    "# Get the column names from the cursor description\n",
    "column_names = [desc[0] for desc in cur.description]\n",
    "\n",
    "# Convert the results into DataFrame\n",
    "combined_data = pd.DataFrame(results, columns=column_names)"
   ]
  },
  {
   "cell_type": "markdown",
   "metadata": {},
   "source": [
    "**Check the Data**"
   ]
  },
  {
   "cell_type": "code",
   "execution_count": 4,
   "metadata": {},
   "outputs": [
    {
     "data": {
      "text/html": [
       "<div>\n",
       "<style scoped>\n",
       "    .dataframe tbody tr th:only-of-type {\n",
       "        vertical-align: middle;\n",
       "    }\n",
       "\n",
       "    .dataframe tbody tr th {\n",
       "        vertical-align: top;\n",
       "    }\n",
       "\n",
       "    .dataframe thead th {\n",
       "        text-align: right;\n",
       "    }\n",
       "</style>\n",
       "<table border=\"1\" class=\"dataframe\">\n",
       "  <thead>\n",
       "    <tr style=\"text-align: right;\">\n",
       "      <th></th>\n",
       "      <th>CONVERSATION_ID</th>\n",
       "      <th>CONVERSATION_MESSAGES</th>\n",
       "      <th>CONVERSATION_CHANNEL</th>\n",
       "      <th>AGENT_LABELED_CATEGORY</th>\n",
       "      <th>AGENT_LABELED_APPLICATION</th>\n",
       "      <th>USER_LABELED_CATEGORY</th>\n",
       "      <th>TRIAGE_MESSAGES</th>\n",
       "      <th>SENT_AT</th>\n",
       "    </tr>\n",
       "  </thead>\n",
       "  <tbody>\n",
       "    <tr>\n",
       "      <th>0</th>\n",
       "      <td>4bc9d6ac597672e3801d6160a03d62cae1f3ac07</td>\n",
       "      <td>In:., From:    HIDDEN_EMAIL Date:    Tue, 25 J...</td>\n",
       "      <td>email</td>\n",
       "      <td>None</td>\n",
       "      <td>None</td>\n",
       "      <td>None</td>\n",
       "      <td>None</td>\n",
       "      <td>2022-01-25 19:20:54.967 Z</td>\n",
       "    </tr>\n",
       "    <tr>\n",
       "      <th>1</th>\n",
       "      <td>31b582d4e3156a062479bd96a660a269b19dcad3</td>\n",
       "      <td>In:.,Below is the one-time password for loggin...</td>\n",
       "      <td>email</td>\n",
       "      <td>None</td>\n",
       "      <td>None</td>\n",
       "      <td>non_request_interaction</td>\n",
       "      <td>None</td>\n",
       "      <td>2021-09-08 13:05:50.000 Z</td>\n",
       "    </tr>\n",
       "    <tr>\n",
       "      <th>2</th>\n",
       "      <td>7ff7673238c978597a38a1a3226ee3c2ebe2a361</td>\n",
       "      <td>In:.,hi there! can you please send me a secure...</td>\n",
       "      <td>chat</td>\n",
       "      <td>None</td>\n",
       "      <td>None</td>\n",
       "      <td>sysadmin_task.password_reset</td>\n",
       "      <td>None</td>\n",
       "      <td>2022-01-03 18:38:05.518 Z</td>\n",
       "    </tr>\n",
       "    <tr>\n",
       "      <th>3</th>\n",
       "      <td>8c59b90503261f88dc8302408a3b2012b307723b</td>\n",
       "      <td>In:.,We had a new hire start on Thursday. I wa...</td>\n",
       "      <td>chat</td>\n",
       "      <td>workstation.provision.new_provision</td>\n",
       "      <td>None</td>\n",
       "      <td>None</td>\n",
       "      <td>[SYSTEM MESSAGE] **Request overview**\\n       ...</td>\n",
       "      <td>2022-02-02 18:23:03.154 Z</td>\n",
       "    </tr>\n",
       "    <tr>\n",
       "      <th>4</th>\n",
       "      <td>cb95a74dbeb7e18fd4ce57fd1ffd7882e77d3765</td>\n",
       "      <td>In:.,Hi! I'm trying to register my laptops wit...</td>\n",
       "      <td>chat</td>\n",
       "      <td>workstation.mdm_policy.enroll_device</td>\n",
       "      <td>None</td>\n",
       "      <td>None</td>\n",
       "      <td>[SYSTEM MESSAGE] **Request overview**\\n       ...</td>\n",
       "      <td>2022-07-21 16:37:23.071 Z</td>\n",
       "    </tr>\n",
       "  </tbody>\n",
       "</table>\n",
       "</div>"
      ],
      "text/plain": [
       "                            CONVERSATION_ID  \\\n",
       "0  4bc9d6ac597672e3801d6160a03d62cae1f3ac07   \n",
       "1  31b582d4e3156a062479bd96a660a269b19dcad3   \n",
       "2  7ff7673238c978597a38a1a3226ee3c2ebe2a361   \n",
       "3  8c59b90503261f88dc8302408a3b2012b307723b   \n",
       "4  cb95a74dbeb7e18fd4ce57fd1ffd7882e77d3765   \n",
       "\n",
       "                               CONVERSATION_MESSAGES CONVERSATION_CHANNEL  \\\n",
       "0  In:., From:    HIDDEN_EMAIL Date:    Tue, 25 J...                email   \n",
       "1  In:.,Below is the one-time password for loggin...                email   \n",
       "2  In:.,hi there! can you please send me a secure...                 chat   \n",
       "3  In:.,We had a new hire start on Thursday. I wa...                 chat   \n",
       "4  In:.,Hi! I'm trying to register my laptops wit...                 chat   \n",
       "\n",
       "                 AGENT_LABELED_CATEGORY AGENT_LABELED_APPLICATION  \\\n",
       "0                                  None                      None   \n",
       "1                                  None                      None   \n",
       "2                                  None                      None   \n",
       "3   workstation.provision.new_provision                      None   \n",
       "4  workstation.mdm_policy.enroll_device                      None   \n",
       "\n",
       "          USER_LABELED_CATEGORY  \\\n",
       "0                          None   \n",
       "1       non_request_interaction   \n",
       "2  sysadmin_task.password_reset   \n",
       "3                          None   \n",
       "4                          None   \n",
       "\n",
       "                                     TRIAGE_MESSAGES  \\\n",
       "0                                               None   \n",
       "1                                               None   \n",
       "2                                               None   \n",
       "3  [SYSTEM MESSAGE] **Request overview**\\n       ...   \n",
       "4  [SYSTEM MESSAGE] **Request overview**\\n       ...   \n",
       "\n",
       "                     SENT_AT  \n",
       "0  2022-01-25 19:20:54.967 Z  \n",
       "1  2021-09-08 13:05:50.000 Z  \n",
       "2  2022-01-03 18:38:05.518 Z  \n",
       "3  2022-02-02 18:23:03.154 Z  \n",
       "4  2022-07-21 16:37:23.071 Z  "
      ]
     },
     "execution_count": 4,
     "metadata": {},
     "output_type": "execute_result"
    }
   ],
   "source": [
    "combined_data.head()"
   ]
  },
  {
   "cell_type": "code",
   "execution_count": 5,
   "metadata": {},
   "outputs": [
    {
     "name": "stdout",
     "output_type": "stream",
     "text": [
      "<class 'pandas.core.frame.DataFrame'>\n",
      "RangeIndex: 484034 entries, 0 to 484033\n",
      "Data columns (total 8 columns):\n",
      " #   Column                     Non-Null Count   Dtype \n",
      "---  ------                     --------------   ----- \n",
      " 0   CONVERSATION_ID            484034 non-null  object\n",
      " 1   CONVERSATION_MESSAGES      484034 non-null  object\n",
      " 2   CONVERSATION_CHANNEL       484034 non-null  object\n",
      " 3   AGENT_LABELED_CATEGORY     380687 non-null  object\n",
      " 4   AGENT_LABELED_APPLICATION  126326 non-null  object\n",
      " 5   USER_LABELED_CATEGORY      72154 non-null   object\n",
      " 6   TRIAGE_MESSAGES            215792 non-null  object\n",
      " 7   SENT_AT                    484034 non-null  object\n",
      "dtypes: object(8)\n",
      "memory usage: 29.5+ MB\n"
     ]
    }
   ],
   "source": [
    "combined_data.info()"
   ]
  },
  {
   "cell_type": "code",
   "execution_count": 6,
   "metadata": {},
   "outputs": [
    {
     "data": {
      "text/plain": [
       "CONVERSATION_ID                   0\n",
       "CONVERSATION_MESSAGES             0\n",
       "CONVERSATION_CHANNEL              0\n",
       "AGENT_LABELED_CATEGORY       103347\n",
       "AGENT_LABELED_APPLICATION    357708\n",
       "USER_LABELED_CATEGORY        411880\n",
       "TRIAGE_MESSAGES              268242\n",
       "SENT_AT                           0\n",
       "dtype: int64"
      ]
     },
     "execution_count": 6,
     "metadata": {},
     "output_type": "execute_result"
    }
   ],
   "source": [
    "# Check NAs\n",
    "combined_data.isna().sum()"
   ]
  },
  {
   "cell_type": "markdown",
   "metadata": {},
   "source": [
    "**Keep Only the Initial Messages from User**\n",
    "1. Remove any messages starting from the agent's first response (i.e. messages that come after \"Out:.,\")\n",
    "2. Delete \"In:.,\" from remaining messages (because all of them now should be In messages)\n",
    "3. Remove the conversations with less than 10 words (to remove conversations with only \"Hello\", \"Hi\", etc.)"
   ]
  },
  {
   "cell_type": "code",
   "execution_count": 7,
   "metadata": {},
   "outputs": [
    {
     "name": "stdout",
     "output_type": "stream",
     "text": [
      "Shape of combined_data:  (484034, 8)\n",
      "Shape of combined_data_10:  (351087, 8)\n"
     ]
    }
   ],
   "source": [
    "# Remove anything that comes after \"Out:.,\"\n",
    "combined_data['CONVERSATION_MESSAGES'] = combined_data['CONVERSATION_MESSAGES'].str.split('Out:.,').str[0]\n",
    "\n",
    "# Delete \"In:\" \n",
    "combined_data['CONVERSATION_MESSAGES'] = combined_data['CONVERSATION_MESSAGES'].str.replace('In:.,', '')\n",
    "\n",
    "# Replace '\\n， \\r' with ''\n",
    "def remove_single_letter_backslash(text):\n",
    "    return re.sub(r'\\n|\\r', ' ', text)\n",
    "combined_data['CONVERSATION_MESSAGES'] = combined_data['CONVERSATION_MESSAGES'].apply(remove_single_letter_backslash)\n",
    "\n",
    "# Remove conversations with less than 10 words\n",
    "combined_data_10 = combined_data[combined_data['CONVERSATION_MESSAGES']\n",
    "           .str.replace(r'[^\\w\\s]', '', regex=True)  \n",
    "           .str.split()\n",
    "           .str.len() >= 10]\n",
    "\n",
    "print('Shape of combined_data: ', combined_data.shape)\n",
    "print('Shape of combined_data_10: ', combined_data_10.shape)"
   ]
  },
  {
   "cell_type": "markdown",
   "metadata": {},
   "source": [
    "**Add Simplified Category (i.e. Automatable Categories + Other (Not Automatable))**"
   ]
  },
  {
   "cell_type": "code",
   "execution_count": 9,
   "metadata": {},
   "outputs": [],
   "source": [
    "# Read Excel file that contains simplified categories\n",
    "df_ticket_category = pd.read_excel('Analytics in Action - Ticket Category Definitions.xlsx')\n",
    "\n",
    "# remain column: AGENT_LABELED_CATEGORY, SIMPLIFIED_CATEGORY\n",
    "df_ticket_category = df_ticket_category[['AGENT_LABELED_CATEGORY', 'SIMPLIFIED_CATEGORY']]\n",
    "\n",
    "# fill in missing values in SIMPLIFIED_CATEGORY as OTHER\n",
    "df_ticket_category['SIMPLIFIED_CATEGORY'] = df_ticket_category['SIMPLIFIED_CATEGORY'].fillna('OTHER')"
   ]
  },
  {
   "cell_type": "code",
   "execution_count": 10,
   "metadata": {},
   "outputs": [
    {
     "data": {
      "text/plain": [
       "SIMPLIFIED_CATEGORY\n",
       "OTHER                                              201\n",
       "UNKNOWN                                              5\n",
       "os_update                                            2\n",
       "add_user_to_channel OR remove_user_from_channel      2\n",
       "add_license OR remove_license                        2\n",
       "shipping_request                                     2\n",
       "add_user_to_group OR remove_user_from_group          2\n",
       "add_user OR remove_user                              1\n",
       "password_reset                                       1\n",
       "reset_mfa                                            1\n",
       "Name: count, dtype: int64"
      ]
     },
     "execution_count": 10,
     "metadata": {},
     "output_type": "execute_result"
    }
   ],
   "source": [
    "df_ticket_category['SIMPLIFIED_CATEGORY'].value_counts()"
   ]
  },
  {
   "cell_type": "code",
   "execution_count": 11,
   "metadata": {},
   "outputs": [],
   "source": [
    "# Convert UNKNOWN to OTHER\n",
    "df_ticket_category['SIMPLIFIED_CATEGORY'] = df_ticket_category['SIMPLIFIED_CATEGORY'].replace('Unknown', 'OTHER')\n",
    "\n",
    "# Replace the AGENT_LABELED_CATEGORY in df_10 with SIMPLIFIED_CATEGORY in df_ticket\n",
    "combined_data_10 = pd.merge(combined_data_10, df_ticket_category, on='AGENT_LABELED_CATEGORY', how='left')"
   ]
  },
  {
   "cell_type": "code",
   "execution_count": 12,
   "metadata": {},
   "outputs": [
    {
     "data": {
      "text/html": [
       "<div>\n",
       "<style scoped>\n",
       "    .dataframe tbody tr th:only-of-type {\n",
       "        vertical-align: middle;\n",
       "    }\n",
       "\n",
       "    .dataframe tbody tr th {\n",
       "        vertical-align: top;\n",
       "    }\n",
       "\n",
       "    .dataframe thead th {\n",
       "        text-align: right;\n",
       "    }\n",
       "</style>\n",
       "<table border=\"1\" class=\"dataframe\">\n",
       "  <thead>\n",
       "    <tr style=\"text-align: right;\">\n",
       "      <th></th>\n",
       "      <th>CONVERSATION_ID</th>\n",
       "      <th>CONVERSATION_MESSAGES</th>\n",
       "      <th>CONVERSATION_CHANNEL</th>\n",
       "      <th>AGENT_LABELED_CATEGORY</th>\n",
       "      <th>AGENT_LABELED_APPLICATION</th>\n",
       "      <th>USER_LABELED_CATEGORY</th>\n",
       "      <th>TRIAGE_MESSAGES</th>\n",
       "      <th>SENT_AT</th>\n",
       "      <th>SIMPLIFIED_CATEGORY</th>\n",
       "    </tr>\n",
       "  </thead>\n",
       "  <tbody>\n",
       "    <tr>\n",
       "      <th>0</th>\n",
       "      <td>4bc9d6ac597672e3801d6160a03d62cae1f3ac07</td>\n",
       "      <td>From:    HIDDEN_EMAIL Date:    Tue, 25 Jan 20...</td>\n",
       "      <td>email</td>\n",
       "      <td>None</td>\n",
       "      <td>None</td>\n",
       "      <td>None</td>\n",
       "      <td>None</td>\n",
       "      <td>2022-01-25 19:20:54.967 Z</td>\n",
       "      <td>NaN</td>\n",
       "    </tr>\n",
       "    <tr>\n",
       "      <th>1</th>\n",
       "      <td>31b582d4e3156a062479bd96a660a269b19dcad3</td>\n",
       "      <td>Below is the one-time password for logging int...</td>\n",
       "      <td>email</td>\n",
       "      <td>None</td>\n",
       "      <td>None</td>\n",
       "      <td>non_request_interaction</td>\n",
       "      <td>None</td>\n",
       "      <td>2021-09-08 13:05:50.000 Z</td>\n",
       "      <td>NaN</td>\n",
       "    </tr>\n",
       "    <tr>\n",
       "      <th>2</th>\n",
       "      <td>7ff7673238c978597a38a1a3226ee3c2ebe2a361</td>\n",
       "      <td>hi there! can you please send me a secure link...</td>\n",
       "      <td>chat</td>\n",
       "      <td>None</td>\n",
       "      <td>None</td>\n",
       "      <td>sysadmin_task.password_reset</td>\n",
       "      <td>None</td>\n",
       "      <td>2022-01-03 18:38:05.518 Z</td>\n",
       "      <td>NaN</td>\n",
       "    </tr>\n",
       "    <tr>\n",
       "      <th>3</th>\n",
       "      <td>8c59b90503261f88dc8302408a3b2012b307723b</td>\n",
       "      <td>We had a new hire start on Thursday. I was wor...</td>\n",
       "      <td>chat</td>\n",
       "      <td>workstation.provision.new_provision</td>\n",
       "      <td>None</td>\n",
       "      <td>None</td>\n",
       "      <td>[SYSTEM MESSAGE] **Request overview**\\n       ...</td>\n",
       "      <td>2022-02-02 18:23:03.154 Z</td>\n",
       "      <td>OTHER</td>\n",
       "    </tr>\n",
       "    <tr>\n",
       "      <th>4</th>\n",
       "      <td>cb95a74dbeb7e18fd4ce57fd1ffd7882e77d3765</td>\n",
       "      <td>Hi! I'm trying to register my laptops with ele...</td>\n",
       "      <td>chat</td>\n",
       "      <td>workstation.mdm_policy.enroll_device</td>\n",
       "      <td>None</td>\n",
       "      <td>None</td>\n",
       "      <td>[SYSTEM MESSAGE] **Request overview**\\n       ...</td>\n",
       "      <td>2022-07-21 16:37:23.071 Z</td>\n",
       "      <td>OTHER</td>\n",
       "    </tr>\n",
       "  </tbody>\n",
       "</table>\n",
       "</div>"
      ],
      "text/plain": [
       "                            CONVERSATION_ID  \\\n",
       "0  4bc9d6ac597672e3801d6160a03d62cae1f3ac07   \n",
       "1  31b582d4e3156a062479bd96a660a269b19dcad3   \n",
       "2  7ff7673238c978597a38a1a3226ee3c2ebe2a361   \n",
       "3  8c59b90503261f88dc8302408a3b2012b307723b   \n",
       "4  cb95a74dbeb7e18fd4ce57fd1ffd7882e77d3765   \n",
       "\n",
       "                               CONVERSATION_MESSAGES CONVERSATION_CHANNEL  \\\n",
       "0   From:    HIDDEN_EMAIL Date:    Tue, 25 Jan 20...                email   \n",
       "1  Below is the one-time password for logging int...                email   \n",
       "2  hi there! can you please send me a secure link...                 chat   \n",
       "3  We had a new hire start on Thursday. I was wor...                 chat   \n",
       "4  Hi! I'm trying to register my laptops with ele...                 chat   \n",
       "\n",
       "                 AGENT_LABELED_CATEGORY AGENT_LABELED_APPLICATION  \\\n",
       "0                                  None                      None   \n",
       "1                                  None                      None   \n",
       "2                                  None                      None   \n",
       "3   workstation.provision.new_provision                      None   \n",
       "4  workstation.mdm_policy.enroll_device                      None   \n",
       "\n",
       "          USER_LABELED_CATEGORY  \\\n",
       "0                          None   \n",
       "1       non_request_interaction   \n",
       "2  sysadmin_task.password_reset   \n",
       "3                          None   \n",
       "4                          None   \n",
       "\n",
       "                                     TRIAGE_MESSAGES  \\\n",
       "0                                               None   \n",
       "1                                               None   \n",
       "2                                               None   \n",
       "3  [SYSTEM MESSAGE] **Request overview**\\n       ...   \n",
       "4  [SYSTEM MESSAGE] **Request overview**\\n       ...   \n",
       "\n",
       "                     SENT_AT SIMPLIFIED_CATEGORY  \n",
       "0  2022-01-25 19:20:54.967 Z                 NaN  \n",
       "1  2021-09-08 13:05:50.000 Z                 NaN  \n",
       "2  2022-01-03 18:38:05.518 Z                 NaN  \n",
       "3  2022-02-02 18:23:03.154 Z               OTHER  \n",
       "4  2022-07-21 16:37:23.071 Z               OTHER  "
      ]
     },
     "execution_count": 12,
     "metadata": {},
     "output_type": "execute_result"
    }
   ],
   "source": [
    "combined_data_10.head()"
   ]
  },
  {
   "cell_type": "code",
   "execution_count": 13,
   "metadata": {},
   "outputs": [],
   "source": [
    "combined_data_10 = combined_data_10[['CONVERSATION_ID','CONVERSATION_CHANNEL', 'AGENT_LABELED_APPLICATION','TRIAGE_MESSAGES', 'AGENT_LABELED_CATEGORY', 'SIMPLIFIED_CATEGORY', 'CONVERSATION_MESSAGES']]"
   ]
  },
  {
   "cell_type": "markdown",
   "metadata": {},
   "source": [
    "**Extract Relevant Data from TRIAGE_MESSAGES**"
   ]
  },
  {
   "cell_type": "code",
   "execution_count": 14,
   "metadata": {},
   "outputs": [
    {
     "name": "stdout",
     "output_type": "stream",
     "text": [
      "<class 'pandas.core.frame.DataFrame'>\n",
      "RangeIndex: 351087 entries, 0 to 351086\n",
      "Data columns (total 7 columns):\n",
      " #   Column                     Non-Null Count   Dtype \n",
      "---  ------                     --------------   ----- \n",
      " 0   CONVERSATION_ID            351087 non-null  object\n",
      " 1   CONVERSATION_CHANNEL       351087 non-null  object\n",
      " 2   AGENT_LABELED_APPLICATION  89608 non-null   object\n",
      " 3   TRIAGE_MESSAGES            143870 non-null  object\n",
      " 4   AGENT_LABELED_CATEGORY     262628 non-null  object\n",
      " 5   SIMPLIFIED_CATEGORY        262628 non-null  object\n",
      " 6   CONVERSATION_MESSAGES      351087 non-null  object\n",
      "dtypes: object(7)\n",
      "memory usage: 18.8+ MB\n"
     ]
    }
   ],
   "source": [
    "combined_data_10.info()"
   ]
  },
  {
   "cell_type": "code",
   "execution_count": 15,
   "metadata": {},
   "outputs": [],
   "source": [
    "TRIAGE_message = combined_data_10['TRIAGE_MESSAGES']"
   ]
  },
  {
   "cell_type": "code",
   "execution_count": 16,
   "metadata": {},
   "outputs": [
    {
     "data": {
      "text/plain": [
       "TRIAGE_MESSAGES\n",
       "[SYSTEM MESSAGE] **Request overview**\\n                \\n**Request type*      117556\n",
       "[SYSTEM MESSAGE] **Request overview**\\n                \\n**What can we h       24219\n",
       "[SYSTEM MESSAGE]‎‎\\n                \\n\\n**Request overview**\\n                  2094\n",
       "[SYSTEM MESSAGE] **Request ******************** **********************             1\n",
       "Name: count, dtype: int64"
      ]
     },
     "execution_count": 16,
     "metadata": {},
     "output_type": "execute_result"
    }
   ],
   "source": [
    "# Check TRIAGE_message format types\n",
    "TRIAGE_message_first_70 = TRIAGE_message.str[:70]\n",
    "TRIAGE_message_first_70.value_counts()"
   ]
  },
  {
   "cell_type": "code",
   "execution_count": 17,
   "metadata": {},
   "outputs": [
    {
     "name": "stdout",
     "output_type": "stream",
     "text": [
      "[SYSTEM MESSAGE] **Request overview**\n",
      "                \n",
      "**Request type**\n",
      " **                \n",
      "**Are those affected able to work?**\n",
      " **                \n",
      "**Additional details**\n",
      " need ********** name and password to use zoom\n"
     ]
    }
   ],
   "source": [
    "# First type of triage message \n",
    "# extract information we need \n",
    "print(combined_data_10[combined_data_10['CONVERSATION_ID'] == '2a3025b0bc2acdbc5706282a64e87be1193c8768']['TRIAGE_MESSAGES'].values[0])\n",
    "# Useful information:  Request type, Additiuonal details."
   ]
  },
  {
   "cell_type": "code",
   "execution_count": 18,
   "metadata": {},
   "outputs": [
    {
     "name": "stdout",
     "output_type": "stream",
     "text": [
      "[SYSTEM MESSAGE] **Request overview**\n",
      "                \n",
      "**What can we help you with?**\n",
      " Something is not working\n",
      "                \n",
      "**How many users need assistance?**\n",
      " One User\n",
      "                \n",
      "**Can users currently work?**\n",
      " Work is not ******** or blocked\n",
      "                \n",
      "**What do you need assistance with?**\n",
      " Login issue\n",
      "                \n",
      "**Additional details**\n",
      " i just reset the computer for a new user and i am still seeing the old username log in\n"
     ]
    }
   ],
   "source": [
    "# Second type of triage message\n",
    "print(combined_data_10[combined_data_10['CONVERSATION_ID'] == '23ba5c0004b4e6c230290e1f599d25e87f2ff0e0']['TRIAGE_MESSAGES'].values[0])\n",
    "# Useful information: What can we help you with?, What do you need assistance with?, Additional details."
   ]
  },
  {
   "cell_type": "code",
   "execution_count": null,
   "metadata": {},
   "outputs": [],
   "source": [
    "def extract_info(text):\n",
    "    if text is None:\n",
    "        return ''\n",
    "    \n",
    "    if text == '':\n",
    "        return ''\n",
    "    \n",
    "    # Extract from the first type\n",
    "    if '**Request type**' in text:\n",
    "        request_type_match = re.search(r'\\*\\*Request type\\*\\*\\n (.+)', text)\n",
    "        additional_details_match = re.search(r'\\*\\*Additional details\\*\\*\\n (.+)', text)\n",
    "        request_type = request_type_match.group(1) if request_type_match else ''\n",
    "        additional_details = additional_details_match.group(1) if additional_details_match else ''\n",
    "        return f\"My request type is {request_type}, There are some additional detail which is {additional_details}\"\n",
    "    \n",
    "    # Extract from the second type\n",
    "    elif '**What can we help you with?**' in text:\n",
    "        help_match = re.search(r'\\*\\*What can we help you with\\?\\*\\*\\n (.+)', text)\n",
    "        assistance_match = re.search(r'\\*\\*What do you need assistance with\\?\\*\\*\\n (.+)', text)\n",
    "        additional_details_match = re.search(r'\\*\\*Additional details\\*\\*\\n (.+)', text)\n",
    "        help_info = help_match.group(1) if help_match else ''\n",
    "        assistance_info = assistance_match.group(1) if assistance_match else ''\n",
    "        additional_details = additional_details_match.group(1) if additional_details_match else ''\n",
    "        return f\"I want you to help me with {help_info}. I want you to assist me with {assistance_info}. There are some additional details that {additional_details}\"\n",
    "    \n",
    "    return ''\n",
    "\n",
    "# Apply the function to the DataFrame\n",
    "combined_data_10['Extracted_TRIAGE'] = combined_data_10['TRIAGE_MESSAGES'].apply(extract_info)"
   ]
  },
  {
   "cell_type": "code",
   "execution_count": null,
   "metadata": {},
   "outputs": [],
   "source": [
    "# Combine Extracted_TRIAGE and CONVERSATION_MESSAGES\n",
    "combined_data_10['MESSAGE_PLUS_TRIAGE'] = combined_data_10['Extracted_TRIAGE'] + ' ' + combined_data_10['CONVERSATION_MESSAGES']"
   ]
  },
  {
   "cell_type": "markdown",
   "metadata": {},
   "source": [
    "**Upload Final Dataset to Snowflake**"
   ]
  },
  {
   "cell_type": "code",
   "execution_count": null,
   "metadata": {},
   "outputs": [
    {
     "data": {
      "text/plain": [
       "(True,\n",
       " 1,\n",
       " 351087,\n",
       " [('iqttpyrsph/file0.txt',\n",
       "   'LOADED',\n",
       "   351087,\n",
       "   351087,\n",
       "   1,\n",
       "   0,\n",
       "   None,\n",
       "   None,\n",
       "   None,\n",
       "   None)])"
      ]
     },
     "execution_count": 21,
     "metadata": {},
     "output_type": "execute_result"
    }
   ],
   "source": [
    "# Match the table name with the name you created in the beginning\n",
    "write_pandas(conn, combined_data_10, \"CLEAN_DATA_10WORDS_FINAL\", auto_create_table=True)"
   ]
  },
  {
   "cell_type": "markdown",
   "metadata": {},
   "source": [
    "**Get Snowflake Embedding (multilingual-e5-large)**"
   ]
  },
  {
   "cell_type": "code",
   "execution_count": 22,
   "metadata": {},
   "outputs": [
    {
     "data": {
      "text/plain": [
       "<snowflake.connector.cursor.SnowflakeCursor at 0x21a324836b0>"
      ]
     },
     "execution_count": 22,
     "metadata": {},
     "output_type": "execute_result"
    }
   ],
   "source": [
    "cur = conn.cursor()\n",
    "cur.execute(\"\"\"\n",
    "CREATE TABLE SNOWFLAKE_EMBEDDING_TRIAGE_FINAL AS\n",
    "select CONVERSATION_ID, SIMPLIFIED_CATEGORY,CONVERSATION_CHANNEL,MESSAGE_PLUS_TRIAGE ,\n",
    "SNOWFLAKE.CORTEX.EMBED_TEXT_1024( 'multilingual-e5-large', MESSAGE_PLUS_TRIAGE ) as multilingual_e5large_embedding,\n",
    "from CLEAN_DATA_10WORDS_Final\n",
    "\"\"\")"
   ]
  },
  {
   "cell_type": "markdown",
   "metadata": {},
   "source": [
    "## **Part 2: Category Prediction**"
   ]
  },
  {
   "cell_type": "markdown",
   "metadata": {},
   "source": [
    "**Download Snowflake Embedding Data**"
   ]
  },
  {
   "cell_type": "code",
   "execution_count": 2,
   "metadata": {},
   "outputs": [],
   "source": [
    "cur = conn.cursor()\n",
    "cur.execute(\"\"\"\n",
    "select * from SNOWFLAKE_EMBEDDING_TRIAGE_FINAL\n",
    "\"\"\")\n",
    "\n",
    "# Fetch all the results from the query\n",
    "results = cur.fetchall()\n",
    "\n",
    "# Get the column names from the cursor description\n",
    "column_names = [desc[0] for desc in cur.description]\n",
    "\n",
    "# Convert the results into a pandas DataFrame\n",
    "df = pd.DataFrame(results, columns=column_names)"
   ]
  },
  {
   "cell_type": "code",
   "execution_count": 4,
   "metadata": {},
   "outputs": [],
   "source": [
    "df.head().to_csv('snowflake_embedding.csv', index=False)    "
   ]
  },
  {
   "cell_type": "markdown",
   "metadata": {},
   "source": [
    "**Data Preparation**"
   ]
  },
  {
   "cell_type": "markdown",
   "metadata": {},
   "source": [
    "- Use only the VALIDATED_CATEGORY (because many of the original data could be incorrect)"
   ]
  },
  {
   "cell_type": "code",
   "execution_count": 27,
   "metadata": {},
   "outputs": [],
   "source": [
    "# Read conversation_dataset, only remain CONVERSATION_ID and VALIDATED_CATEGORY\n",
    "cur = conn.cursor()\n",
    "cur.execute(\"\"\"\n",
    "select * from class_shared_data.class_dataset.conversation_dataset\n",
    "\"\"\")\n",
    "\n",
    "# Fetch all the results from the query\n",
    "results = cur.fetchall()\n",
    "\n",
    "# Get the column names from the cursor description\n",
    "column_names = [desc[0] for desc in cur.description]\n",
    "\n",
    "# Convert the results into a pandas DataFrame\n",
    "conversation_df = pd.DataFrame(results, columns=column_names)\n",
    "\n",
    "conversation_df = conversation_df[['CONVERSATION_ID', 'VALIDATED_CATEGORY']]"
   ]
  },
  {
   "cell_type": "code",
   "execution_count": null,
   "metadata": {},
   "outputs": [
    {
     "name": "stdout",
     "output_type": "stream",
     "text": [
      "205099\n"
     ]
    }
   ],
   "source": [
    "# Left merge df and conversation_df based on 'CONVERSATION_ID'\n",
    "df = pd.merge(df, conversation_df, on='CONVERSATION_ID', how='left')\n",
    "\n",
    "# Only remain the rows with VALIDATED_CATEGORY == True or SIMPLIFIED_CATEGORY == OTHER\n",
    "df = df[(df['VALIDATED_CATEGORY'] == True) | (df['SIMPLIFIED_CATEGORY'] == 'OTHER')]\n",
    "\n",
    "print(len(df))"
   ]
  },
  {
   "cell_type": "markdown",
   "metadata": {},
   "source": [
    "- Only use MESSAGE where there are less masking (less than 20%)"
   ]
  },
  {
   "cell_type": "code",
   "execution_count": 30,
   "metadata": {},
   "outputs": [
    {
     "name": "stdout",
     "output_type": "stream",
     "text": [
      "187144\n"
     ]
    }
   ],
   "source": [
    "# Keep only rows with 'MESSAGE_PLUS_TRIAGE' where '*' < 20%\n",
    "df = df[df['MESSAGE_PLUS_TRIAGE'].str.count(r'\\*') < (0.2 * df['MESSAGE_PLUS_TRIAGE'].str.len())]\n",
    "\n",
    "print(len(df))"
   ]
  },
  {
   "cell_type": "code",
   "execution_count": 31,
   "metadata": {},
   "outputs": [
    {
     "data": {
      "text/plain": [
       "SIMPLIFIED_CATEGORY\n",
       "OTHER                                              161517\n",
       "password_reset                                       8736\n",
       "add_user OR remove_user                              4691\n",
       "os_update                                            4648\n",
       "shipping_request                                     2676\n",
       "add_user_to_channel OR remove_user_from_channel      2169\n",
       "add_license OR remove_license                        1668\n",
       "reset_mfa                                            1039\n",
       "Name: count, dtype: int64"
      ]
     },
     "execution_count": 31,
     "metadata": {},
     "output_type": "execute_result"
    }
   ],
   "source": [
    "# print SIMPLIFIED_CATEGORY value counts\n",
    "df['SIMPLIFIED_CATEGORY'].value_counts()"
   ]
  },
  {
   "cell_type": "code",
   "execution_count": null,
   "metadata": {},
   "outputs": [
    {
     "name": "stdout",
     "output_type": "stream",
     "text": [
      "Other: 161517\n",
      "Non-Other: 25627\n",
      "Total: 187144\n"
     ]
    }
   ],
   "source": [
    "# Print SIMPLIFIED_CATEGORY 'OTHER' and non-'OTHER' value counts\n",
    "print('Other:', df['SIMPLIFIED_CATEGORY'].value_counts()['OTHER'])\n",
    "print('Non-Other:', df['SIMPLIFIED_CATEGORY'].value_counts().sum() - df['SIMPLIFIED_CATEGORY'].value_counts()['OTHER'])\n",
    "print('Total:', df['SIMPLIFIED_CATEGORY'].value_counts().sum())"
   ]
  },
  {
   "cell_type": "code",
   "execution_count": null,
   "metadata": {},
   "outputs": [
    {
     "name": "stdout",
     "output_type": "stream",
     "text": [
      "<class 'list'> 1024\n"
     ]
    }
   ],
   "source": [
    "# Output the type and len of first embedding\n",
    "print(type(df['MULTILINGUAL_E5LARGE_EMBEDDING'].iloc[0]), len(df['MULTILINGUAL_E5LARGE_EMBEDDING'].iloc[0]))"
   ]
  },
  {
   "cell_type": "code",
   "execution_count": 38,
   "metadata": {},
   "outputs": [
    {
     "data": {
      "text/html": [
       "<div>\n",
       "<style scoped>\n",
       "    .dataframe tbody tr th:only-of-type {\n",
       "        vertical-align: middle;\n",
       "    }\n",
       "\n",
       "    .dataframe tbody tr th {\n",
       "        vertical-align: top;\n",
       "    }\n",
       "\n",
       "    .dataframe thead th {\n",
       "        text-align: right;\n",
       "    }\n",
       "</style>\n",
       "<table border=\"1\" class=\"dataframe\">\n",
       "  <thead>\n",
       "    <tr style=\"text-align: right;\">\n",
       "      <th></th>\n",
       "      <th>CONVERSATION_ID</th>\n",
       "      <th>SIMPLIFIED_CATEGORY</th>\n",
       "      <th>CONVERSATION_CHANNEL</th>\n",
       "      <th>MESSAGE_PLUS_TRIAGE</th>\n",
       "      <th>MULTILINGUAL_E5LARGE_EMBEDDING</th>\n",
       "      <th>VALIDATED_CATEGORY</th>\n",
       "    </tr>\n",
       "  </thead>\n",
       "  <tbody>\n",
       "    <tr>\n",
       "      <th>0</th>\n",
       "      <td>fc6bf2cb796de4a21c69a47d7cb1b7c816ce2c39</td>\n",
       "      <td>add_user OR remove_user</td>\n",
       "      <td>chat</td>\n",
       "      <td>Hello, we had a new onboarding of ****** -- h...</td>\n",
       "      <td>[0.010034076869487762, -0.007666395977139473, ...</td>\n",
       "      <td>True</td>\n",
       "    </tr>\n",
       "    <tr>\n",
       "      <th>1</th>\n",
       "      <td>311db9f15234e58b0223e34d0b8d43b2e5ee5601</td>\n",
       "      <td>OTHER</td>\n",
       "      <td>email</td>\n",
       "      <td>I am going to take ****’s laptop and replace ...</td>\n",
       "      <td>[0.026209674775600433, 0.01610388420522213, -0...</td>\n",
       "      <td>False</td>\n",
       "    </tr>\n",
       "    <tr>\n",
       "      <th>2</th>\n",
       "      <td>8dca317f750535d770136a489edf16f761f71d7e</td>\n",
       "      <td>OTHER</td>\n",
       "      <td>email</td>\n",
       "      <td>Hi,  I just got a new phone and don’t know my...</td>\n",
       "      <td>[0.015950312837958336, -0.027684127911925316, ...</td>\n",
       "      <td>False</td>\n",
       "    </tr>\n",
       "    <tr>\n",
       "      <th>4</th>\n",
       "      <td>c3497b05d9b68df428aa47e133dada46d41fc523</td>\n",
       "      <td>OTHER</td>\n",
       "      <td>chat</td>\n",
       "      <td>My request type is APPLICATION, There are some...</td>\n",
       "      <td>[0.034831006079912186, -0.0027348522562533617,...</td>\n",
       "      <td>False</td>\n",
       "    </tr>\n",
       "    <tr>\n",
       "      <th>11</th>\n",
       "      <td>c91e986c8008cbc2d81dfe8b29ee4b1a26307016</td>\n",
       "      <td>OTHER</td>\n",
       "      <td>chat</td>\n",
       "      <td>My request type is NETWORK, There are some add...</td>\n",
       "      <td>[0.024984337389469147, -0.020768102258443832, ...</td>\n",
       "      <td>False</td>\n",
       "    </tr>\n",
       "  </tbody>\n",
       "</table>\n",
       "</div>"
      ],
      "text/plain": [
       "                             CONVERSATION_ID      SIMPLIFIED_CATEGORY  \\\n",
       "0   fc6bf2cb796de4a21c69a47d7cb1b7c816ce2c39  add_user OR remove_user   \n",
       "1   311db9f15234e58b0223e34d0b8d43b2e5ee5601                    OTHER   \n",
       "2   8dca317f750535d770136a489edf16f761f71d7e                    OTHER   \n",
       "4   c3497b05d9b68df428aa47e133dada46d41fc523                    OTHER   \n",
       "11  c91e986c8008cbc2d81dfe8b29ee4b1a26307016                    OTHER   \n",
       "\n",
       "   CONVERSATION_CHANNEL                                MESSAGE_PLUS_TRIAGE  \\\n",
       "0                  chat   Hello, we had a new onboarding of ****** -- h...   \n",
       "1                 email   I am going to take ****’s laptop and replace ...   \n",
       "2                 email   Hi,  I just got a new phone and don’t know my...   \n",
       "4                  chat  My request type is APPLICATION, There are some...   \n",
       "11                 chat  My request type is NETWORK, There are some add...   \n",
       "\n",
       "                       MULTILINGUAL_E5LARGE_EMBEDDING  VALIDATED_CATEGORY  \n",
       "0   [0.010034076869487762, -0.007666395977139473, ...                True  \n",
       "1   [0.026209674775600433, 0.01610388420522213, -0...               False  \n",
       "2   [0.015950312837958336, -0.027684127911925316, ...               False  \n",
       "4   [0.034831006079912186, -0.0027348522562533617,...               False  \n",
       "11  [0.024984337389469147, -0.020768102258443832, ...               False  "
      ]
     },
     "execution_count": 38,
     "metadata": {},
     "output_type": "execute_result"
    }
   ],
   "source": [
    "df.head()"
   ]
  },
  {
   "cell_type": "code",
   "execution_count": null,
   "metadata": {},
   "outputs": [],
   "source": [
    "# Change MULTILINGUAL_E5LARGE_EMBEDDING to <class 'numpy.ndarray'>\n",
    "# df['MULTILINGUAL_E5LARGE_EMBEDDING'] = df['MULTILINGUAL_E5LARGE_EMBEDDING'].apply(lambda x: np.fromstring(x[1:-1], sep=',').astype(np.float32))\n",
    "df['MULTILINGUAL_E5LARGE_EMBEDDING'] = df['MULTILINGUAL_E5LARGE_EMBEDDING'].apply(lambda x: np.array(x, dtype=np.float32))"
   ]
  },
  {
   "cell_type": "code",
   "execution_count": 42,
   "metadata": {},
   "outputs": [
    {
     "name": "stdout",
     "output_type": "stream",
     "text": [
      "<class 'numpy.ndarray'> 1024\n"
     ]
    }
   ],
   "source": [
    "# output the type and len of first embedding\n",
    "print(type(df['MULTILINGUAL_E5LARGE_EMBEDDING'].iloc[0]), len(df['MULTILINGUAL_E5LARGE_EMBEDDING'].iloc[0]))"
   ]
  },
  {
   "cell_type": "code",
   "execution_count": 43,
   "metadata": {},
   "outputs": [],
   "source": [
    "# Save embeddings separately as a .npy file to retain ndarray format\n",
    "np.save('multilingual_embeddings.npy', np.stack(df['MULTILINGUAL_E5LARGE_EMBEDDING'].values))\n",
    "\n",
    "# Save the DataFrame to CSV without the embeddings column\n",
    "df.drop(columns=['MULTILINGUAL_E5LARGE_EMBEDDING']).to_csv('snowflake_embedding_less_asterisk_cleaned.csv', index=False)"
   ]
  },
  {
   "cell_type": "markdown",
   "metadata": {},
   "source": [
    "**Resampling (Data Imbalance)**"
   ]
  },
  {
   "cell_type": "code",
   "execution_count": 44,
   "metadata": {},
   "outputs": [
    {
     "name": "stdout",
     "output_type": "stream",
     "text": [
      "<class 'numpy.ndarray'> 1024\n"
     ]
    }
   ],
   "source": [
    "# Load the base DataFrame from CSV (without embeddings)\n",
    "df = pd.read_csv('snowflake_embedding_less_asterisk_cleaned.csv')\n",
    "\n",
    "# Load the embeddings from the .npy file\n",
    "embeddings = np.load('multilingual_embeddings.npy')\n",
    "\n",
    "# Add the embeddings back to the DataFrame\n",
    "df['MULTILINGUAL_E5LARGE_EMBEDDING'] = list(embeddings)\n",
    "\n",
    "# Check the type and length of the first embedding to verify\n",
    "print(type(df['MULTILINGUAL_E5LARGE_EMBEDDING'].iloc[0]), len(df['MULTILINGUAL_E5LARGE_EMBEDDING'].iloc[0]))"
   ]
  },
  {
   "cell_type": "code",
   "execution_count": 47,
   "metadata": {},
   "outputs": [
    {
     "name": "stdout",
     "output_type": "stream",
     "text": [
      "Original class distribution: {'OTHER': 161517, 'password_reset': 8736, 'add_user OR remove_user': 4691, 'os_update': 4648, 'shipping_request': 2676, 'add_user_to_channel OR remove_user_from_channel': 2169, 'add_license OR remove_license': 1668, 'reset_mfa': 1039}\n",
      "Balanced class distribution: {'OTHER': 25000, 'add_license OR remove_license': 2928, 'add_user OR remove_user': 8237, 'add_user_to_channel OR remove_user_from_channel': 3808, 'os_update': 8161, 'password_reset': 15340, 'reset_mfa': 1824, 'shipping_request': 4698}\n"
     ]
    }
   ],
   "source": [
    "import pandas as pd\n",
    "import numpy as np\n",
    "from collections import Counter\n",
    "from sklearn.model_selection import train_test_split\n",
    "from sklearn.preprocessing import LabelEncoder\n",
    "from imblearn.under_sampling import RandomUnderSampler\n",
    "from imblearn.over_sampling import SMOTE\n",
    "\n",
    "# Constants for resampling\n",
    "upsampling_num = 45000\n",
    "downsampling_num = 25000\n",
    "\n",
    "# Extract feature matrix X and target variable Y\n",
    "X = np.vstack(df['MULTILINGUAL_E5LARGE_EMBEDDING'].values)\n",
    "Y = df['SIMPLIFIED_CATEGORY'].values\n",
    "\n",
    "# Encode the labels\n",
    "label_encoder = LabelEncoder()\n",
    "Y_encoded = label_encoder.fit_transform(Y)\n",
    "\n",
    "# Calculate class distributions\n",
    "original_counts = df['SIMPLIFIED_CATEGORY'].value_counts().to_dict()\n",
    "print(\"Original class distribution:\", original_counts)\n",
    "\n",
    "# Downsample 'OTHER'\n",
    "rus = RandomUnderSampler(sampling_strategy={'OTHER': downsampling_num}, random_state=42)\n",
    "X_res, y_res = rus.fit_resample(X, Y)\n",
    "\n",
    "# Separate 'OTHER' and other classes\n",
    "other_indices = [i for i, label in enumerate(y_res) if label == 'OTHER']\n",
    "minority_indices = [i for i, label in enumerate(y_res) if label != 'OTHER']\n",
    "\n",
    "X_other, y_other = X_res[other_indices], y_res[other_indices]\n",
    "X_minority, y_minority = X_res[minority_indices], y_res[minority_indices]\n",
    "\n",
    "# Scale up other classes using SMOTE\n",
    "other_classes_counts = {k: v for k, v in original_counts.items() if k != 'OTHER'}\n",
    "scaling_factor = upsampling_num / sum(other_classes_counts.values())\n",
    "desired_counts = {label: int(count * scaling_factor) for label, count in other_classes_counts.items()}\n",
    "\n",
    "# Create SMOTE sampling strategy\n",
    "smote_strategy = {label: desired_counts[label] for label in Counter(y_minority).keys()}\n",
    "smote = SMOTE(sampling_strategy=smote_strategy, random_state=42)\n",
    "X_minority_resampled, y_minority_resampled = smote.fit_resample(X_minority, y_minority)\n",
    "\n",
    "# Combine downsampled 'OTHER' and resampled other classes\n",
    "X_balanced = np.vstack((X_other, X_minority_resampled))\n",
    "y_balanced = np.concatenate((y_other, y_minority_resampled))\n",
    "\n",
    "# Verify class distribution\n",
    "balanced_counts = Counter(y_balanced)\n",
    "print(\"Balanced class distribution:\", dict(balanced_counts))\n",
    "\n",
    "# Encode and split the dataset\n",
    "y_balanced_encoded = label_encoder.transform(y_balanced)\n",
    "X_train_bal, X_test_bal, y_train_bal, y_test_bal = train_test_split(\n",
    "    X_balanced, y_balanced_encoded, test_size=0.2, random_state=42, stratify=y_balanced_encoded\n",
    ")"
   ]
  },
  {
   "cell_type": "markdown",
   "metadata": {},
   "source": [
    "**Class Distribution Chart**"
   ]
  },
  {
   "cell_type": "code",
   "execution_count": 48,
   "metadata": {},
   "outputs": [
    {
     "data": {
      "image/png": "[encoded data removed]",
      "text/plain": [
       "<Figure size 1200x500 with 1 Axes>"
      ]
     },
     "metadata": {},
     "output_type": "display_data"
    }
   ],
   "source": [
    "import matplotlib.pyplot as plt\n",
    "import seaborn as sns\n",
    "import pandas as pd\n",
    "\n",
    "# Set the style for the plots\n",
    "sns.set_theme(style=\"whitegrid\")\n",
    "\n",
    "# Function to prepare data for plotting\n",
    "def prepare_data_for_plot(original_counts, balanced_counts):\n",
    "    original_df = pd.DataFrame(list(original_counts.items()), columns=['Class', 'Count'])\n",
    "    original_df['Type'] = 'Original'\n",
    "    \n",
    "    balanced_df = pd.DataFrame(list(balanced_counts.items()), columns=['Class', 'Count'])\n",
    "    balanced_df['Type'] = 'Balanced'\n",
    "    \n",
    "    # Combine the two DataFrames\n",
    "    combined_df = pd.concat([original_df, balanced_df], ignore_index=True)\n",
    "    return combined_df\n",
    "\n",
    "# Capture class distributions before and after resampling\n",
    "counts_before = original_counts  # Use previously calculated original class distribution\n",
    "counts_after = dict(Counter(y_balanced))  # Calculate balanced class distribution dynamically\n",
    "\n",
    "# Prepare data for plotting\n",
    "combined_df = prepare_data_for_plot(counts_before, counts_after)\n",
    "\n",
    "# Create a bar plot to visualize the class distribution\n",
    "plt.figure(figsize=(12, 5))\n",
    "barplot = sns.barplot(\n",
    "    data=combined_df, \n",
    "    x='Class', \n",
    "    y='Count', \n",
    "    hue='Type', \n",
    "    palette='viridis',\n",
    "    alpha=0.8\n",
    ")\n",
    "plt.xticks(rotation=45, ha='right')\n",
    "plt.xlabel('Class')\n",
    "plt.ylabel('Number of Samples')\n",
    "plt.title('Class Distribution: Original vs. Balanced')\n",
    "\n",
    "# Add data labels on top of the bars\n",
    "for container in barplot.containers:\n",
    "    barplot.bar_label(container, fmt='%.0f', label_type='edge', padding=2)\n",
    "\n",
    "plt.tight_layout()\n",
    "plt.show()"
   ]
  },
  {
   "cell_type": "markdown",
   "metadata": {},
   "source": [
    "## **Part 3: Prediction Models**"
   ]
  },
  {
   "cell_type": "code",
   "execution_count": 49,
   "metadata": {},
   "outputs": [],
   "source": [
    "# Prepare an empty dictionary to store each model's metrics\n",
    "model_metrics = {}"
   ]
  },
  {
   "cell_type": "markdown",
   "metadata": {},
   "source": [
    "**1. Logistic Regression**"
   ]
  },
  {
   "cell_type": "code",
   "execution_count": null,
   "metadata": {},
   "outputs": [
    {
     "name": "stdout",
     "output_type": "stream",
     "text": [
      "Logistic Regression Classification Report:\n",
      "                                                 precision    recall  f1-score   support\n",
      "\n",
      "                                          OTHER       0.83      0.54      0.66      5000\n",
      "                  add_license OR remove_license       0.54      0.85      0.66       586\n",
      "                        add_user OR remove_user       0.67      0.81      0.74      1647\n",
      "add_user_to_channel OR remove_user_from_channel       0.72      0.92      0.81       762\n",
      "                                      os_update       0.77      0.90      0.83      1632\n",
      "                                 password_reset       0.86      0.86      0.86      3068\n",
      "                                      reset_mfa       0.56      0.90      0.69       365\n",
      "                               shipping_request       0.64      0.92      0.76       940\n",
      "\n",
      "                                       accuracy                           0.75     14000\n",
      "                                      macro avg       0.70      0.84      0.75     14000\n",
      "                                   weighted avg       0.77      0.75      0.75     14000\n",
      "\n"
     ]
    }
   ],
   "source": [
    "from sklearn.linear_model import LogisticRegression\n",
    "from sklearn.pipeline import make_pipeline\n",
    "from sklearn.preprocessing import StandardScaler\n",
    "from sklearn.metrics import classification_report\n",
    "\n",
    "# Define the training and evaluation function for Logistic Regression\n",
    "def train_evaluate_logistic(X_train, X_test, y_train, y_test):\n",
    "    model = make_pipeline(\n",
    "        StandardScaler(),\n",
    "        LogisticRegression(max_iter=1000, random_state=42, class_weight='balanced')\n",
    "    )\n",
    "    model.fit(X_train, y_train)\n",
    "    y_pred = model.predict(X_test)\n",
    "    # Convert the predicted integer labels back to original string labels\n",
    "    y_test_labels = label_encoder.inverse_transform(y_test)\n",
    "    y_pred_labels = label_encoder.inverse_transform(y_pred)\n",
    "    print(\"Logistic Regression Classification Report:\")\n",
    "    print(classification_report(y_test_labels, y_pred_labels))\n",
    "    return classification_report(y_test_labels, y_pred_labels, output_dict=True)\n",
    "\n",
    "# Train and evaluate the Logistic Regression model\n",
    "metric_lr = train_evaluate_logistic(X_train_bal, X_test_bal, y_train_bal, y_test_bal)\n",
    "\n",
    "# Store the results in the dictionary\n",
    "model_metrics['Logistic Regression'] = metric_lr"
   ]
  },
  {
   "cell_type": "markdown",
   "metadata": {},
   "source": [
    "**2. Random Forest**"
   ]
  },
  {
   "cell_type": "code",
   "execution_count": null,
   "metadata": {},
   "outputs": [],
   "source": [
    "from sklearn.ensemble import RandomForestClassifier\n",
    "from sklearn.model_selection import GridSearchCV\n",
    "from sklearn.metrics import classification_report\n",
    "import numpy as np\n",
    "\n",
    "# Convert to 32-bit float\n",
    "X_train_bal = X_train_bal.astype(np.float32)\n",
    "X_test_bal = X_test_bal.astype(np.float32)\n",
    "\n",
    "# Define the parameter grid for Random Forest\n",
    "param_grid_rf = {\n",
    "    'n_estimators': [100, 200],\n",
    "    'max_depth': [None, 10, 20],\n",
    "    'min_samples_split': [2, 5],\n",
    "    'min_samples_leaf': [1, 2],\n",
    "    'max_features': ['sqrt', 'log2']\n",
    "}\n",
    "\n",
    "# Trian and evaluate Random Forest model\n",
    "def train_evaluate_rf(X_train, X_test, y_train, y_test):\n",
    "    rf_model = RandomForestClassifier(\n",
    "        random_state=42,\n",
    "        n_jobs=-1       # Use all available cores\n",
    "    )\n",
    "    grid_search = GridSearchCV(\n",
    "        rf_model,\n",
    "        param_grid_rf,\n",
    "        cv=2,                     # ues 2-fold cross-validation\n",
    "        scoring='f1_weighted',\n",
    "        n_jobs=-1                 # Use all available cores\n",
    "    )\n",
    "    grid_search.fit(X_train, y_train)\n",
    "    best_model = grid_search.best_estimator_\n",
    "    # Output the best parameters found\n",
    "    print(\"Best Parameters found:\")\n",
    "    print(grid_search.best_params_)\n",
    "\n",
    "    y_pred = best_model.predict(X_test)\n",
    "    # Convert the predicted integer labels back to original string labels\n",
    "    y_test_labels = label_encoder.inverse_transform(y_test)\n",
    "    y_pred_labels = label_encoder.inverse_transform(y_pred)\n",
    "    print(\"Random Forest Classification Report:\")\n",
    "    print(classification_report(y_test_labels, y_pred_labels))\n",
    "    # Return the classification report as a dictionary\n",
    "    return classification_report(y_test_labels, y_pred_labels, output_dict=True)\n",
    "\n",
    "# Train and evaluate the Random Forest model\n",
    "metric_rf = train_evaluate_rf(X_train_bal, X_test_bal, y_train_bal, y_test_bal)\n",
    "\n",
    "# Store the results in the dictionary\n",
    "model_metrics['RandomForest'] = metric_rf"
   ]
  },
  {
   "cell_type": "markdown",
   "metadata": {},
   "source": [
    "**3. XGBoost**"
   ]
  },
  {
   "cell_type": "code",
   "execution_count": null,
   "metadata": {},
   "outputs": [],
   "source": [
    "from xgboost import XGBClassifier\n",
    "from sklearn.model_selection import GridSearchCV\n",
    "from sklearn.metrics import classification_report\n",
    "import xgboost as xgb\n",
    "\n",
    "# Expanded parameter grid\n",
    "param_grid_xgb = {\n",
    "    'n_estimators': [100, 200],\n",
    "    'max_depth': [3, 6],\n",
    "    'learning_rate': [0.1, 0.01],\n",
    "    'subsample': [0.8],\n",
    "    'colsample_bytree': [0.8],\n",
    "    'gamma': [0, 1],\n",
    "    'min_child_weight': [1, 5]\n",
    "}\n",
    "\n",
    "def train_evaluate_xgb(X_train, X_test, y_train, y_test):\n",
    "    xgb_model = XGBClassifier(\n",
    "        random_state=42,\n",
    "        tree_method='hist',        # Use 'hist' tree method\n",
    "        device='cuda',             # Enable GPU acceleration\n",
    "        eval_metric='mlogloss',\n",
    "        max_bin=256,\n",
    "        n_jobs=1                   # Limit CPU threads\n",
    "    )\n",
    "    grid_search = GridSearchCV(\n",
    "        xgb_model,\n",
    "        param_grid_xgb,\n",
    "        cv=2,\n",
    "        scoring='f1_weighted',\n",
    "        n_jobs=1                   # Limit CPU threads\n",
    "    )\n",
    "    grid_search.fit(X_train, y_train)\n",
    "    best_model = grid_search.best_estimator_\n",
    "    # Output the best parameters found\n",
    "    print(\"Best Parameters found:\")\n",
    "    print(grid_search.best_params_)\n",
    "    \n",
    "    # Predictions\n",
    "    y_pred = best_model.predict(X_test)\n",
    "\n",
    "    # Convert labels back to original strings\n",
    "    y_test_labels = label_encoder.inverse_transform(y_test)\n",
    "    y_pred_labels = label_encoder.inverse_transform(y_pred)\n",
    "\n",
    "    print(\"XGBoost Classification Report:\")\n",
    "    print(classification_report(y_test_labels, y_pred_labels))\n",
    "    return classification_report(y_test_labels, y_pred_labels, output_dict=True)\n",
    "\n",
    "# Train and evaluate the XGBoost model\n",
    "metric_xgb = train_evaluate_xgb(X_train_bal, X_test_bal, y_train_bal, y_test_bal)\n",
    "\n",
    "# Store the results\n",
    "model_metrics['XGBoost'] = metric_xgb"
   ]
  },
  {
   "cell_type": "markdown",
   "metadata": {},
   "source": [
    "**4. LightGBM**"
   ]
  },
  {
   "cell_type": "code",
   "execution_count": null,
   "metadata": {},
   "outputs": [],
   "source": [
    "from lightgbm import LGBMClassifier\n",
    "from sklearn.model_selection import GridSearchCV\n",
    "from sklearn.metrics import classification_report\n",
    "import numpy as np\n",
    "\n",
    "# Ensure data types are float32 to reduce memory usage\n",
    "X_train_bal = X_train_bal.astype(np.float32)\n",
    "X_test_bal = X_test_bal.astype(np.float32)\n",
    "\n",
    "# Use the data without PCA\n",
    "X_train_bal_reduced = X_train_bal\n",
    "X_test_bal_reduced = X_test_bal\n",
    "\n",
    "# Slightly expanded parameter grid\n",
    "param_grid_lgb = {\n",
    "    'n_estimators': [100, 200],          # Try different numbers of trees\n",
    "    'max_depth': [3, 5, 7],              # Add a deeper tree depth\n",
    "    'learning_rate': [0.1, 0.05],        # Keep existing learning rates\n",
    "    'num_leaves': [31, 63],              # Try a larger number of leaves\n",
    "    'subsample': [0.8],                  # Keep subsample constant\n",
    "    'colsample_bytree': [0.8],           # Keep colsample_bytree constant\n",
    "    'reg_alpha': [0],                    # Keep reg_alpha constant\n",
    "    'reg_lambda': [0],                   # Keep reg_lambda constant\n",
    "    'min_child_samples': [20, 40]        # Try increasing min_child_samples\n",
    "}\n",
    "\n",
    "def train_evaluate_lgb(X_train, X_test, y_train, y_test):\n",
    "    lgb_model = LGBMClassifier(\n",
    "        random_state=42,\n",
    "        device='gpu',            # Enable GPU acceleration\n",
    "        gpu_device_id=0,         # Specify GPU device ID\n",
    "        n_jobs=1,                # Limit CPU usage\n",
    "        verbose=-1               # Suppress warnings\n",
    "    )\n",
    "    grid_search = GridSearchCV(\n",
    "        lgb_model,\n",
    "        param_grid_lgb,\n",
    "        cv=2,\n",
    "        scoring='f1_weighted',\n",
    "        n_jobs=1                 # Limit CPU usage\n",
    "    )\n",
    "    grid_search.fit(X_train, y_train)\n",
    "    best_model = grid_search.best_estimator_\n",
    "\n",
    "    # Output the best parameters found\n",
    "    print(\"Best Parameters found:\")\n",
    "    print(grid_search.best_params_)\n",
    "\n",
    "    y_pred = best_model.predict(X_test)\n",
    "    # Convert labels back to original strings\n",
    "    y_test_labels = label_encoder.inverse_transform(y_test)\n",
    "    y_pred_labels = label_encoder.inverse_transform(y_pred)\n",
    "    print(\"LightGBM Classification Report:\")\n",
    "    print(classification_report(y_test_labels, y_pred_labels))\n",
    "    # Return the classification report as a dictionary\n",
    "    return classification_report(y_test_labels, y_pred_labels, output_dict=True)\n",
    "\n",
    "# Train and evaluate the LightGBM model\n",
    "metric_lgb = train_evaluate_lgb(X_train_bal_reduced, X_test_bal_reduced, y_train_bal, y_test_bal)\n",
    "\n",
    "# Store the results\n",
    "model_metrics['LightGBM'] = metric_lgb"
   ]
  },
  {
   "cell_type": "markdown",
   "metadata": {},
   "source": [
    "**5. MLP**"
   ]
  },
  {
   "cell_type": "code",
   "execution_count": null,
   "metadata": {},
   "outputs": [],
   "source": [
    "import torch\n",
    "import torch.nn as nn\n",
    "import torch.optim as optim\n",
    "from sklearn.preprocessing import StandardScaler\n",
    "from sklearn.metrics import classification_report\n",
    "from sklearn.preprocessing import LabelEncoder\n",
    "import numpy as np\n",
    "\n",
    "# Prepare the data\n",
    "scaler = StandardScaler()\n",
    "X_train_scaled = scaler.fit_transform(X_train_bal)\n",
    "X_test_scaled = scaler.transform(X_test_bal)\n",
    "\n",
    "# Convert data to PyTorch tensors and move to GPU\n",
    "device = torch.device('cuda' if torch.cuda.is_available() else 'cpu')\n",
    "X_train_tensor = torch.tensor(X_train_scaled, dtype=torch.float32).to(device)\n",
    "X_test_tensor = torch.tensor(X_test_scaled, dtype=torch.float32).to(device)\n",
    "y_train_tensor = torch.tensor(y_train_bal, dtype=torch.long).to(device)\n",
    "y_test_tensor = torch.tensor(y_test_bal, dtype=torch.long).to(device)\n",
    "\n",
    "# Define the MLP model\n",
    "class MLP(nn.Module):\n",
    "    def __init__(self, input_size, hidden_layer_sizes, num_classes, activation='relu'):\n",
    "        super(MLP, self).__init__()\n",
    "        layers = []\n",
    "        in_features = input_size\n",
    "        for hidden_size in hidden_layer_sizes:\n",
    "            layers.append(nn.Linear(in_features, hidden_size))\n",
    "            if activation == 'relu':\n",
    "                layers.append(nn.ReLU())\n",
    "            elif activation == 'tanh':\n",
    "                layers.append(nn.Tanh())\n",
    "            in_features = hidden_size\n",
    "        layers.append(nn.Linear(in_features, num_classes))\n",
    "        self.net = nn.Sequential(*layers)\n",
    "    \n",
    "    def forward(self, x):\n",
    "        return self.net(x)\n",
    "\n",
    "# Hyperparameter grid\n",
    "param_grid_mlp = {\n",
    "    'hidden_layer_sizes': [[100], [200]],\n",
    "    'activation': ['relu', 'tanh'],\n",
    "    'learning_rate_init': [0.001, 0.01],\n",
    "    'max_iter': [20]  # Reduced for faster training\n",
    "}\n",
    "\n",
    "# Function to train and evaluate the MLP model\n",
    "def train_evaluate_mlp(X_train, X_test, y_train, y_test):\n",
    "    num_classes = len(np.unique(y_train_bal))\n",
    "    input_size = X_train.shape[1]\n",
    "    best_f1 = 0\n",
    "    best_params = None\n",
    "    best_model = None\n",
    "    \n",
    "    # Iterate over all combinations of hyperparameters\n",
    "    from itertools import product\n",
    "    for hidden_sizes, activation, lr, epochs in product(\n",
    "        param_grid_mlp['hidden_layer_sizes'],\n",
    "        param_grid_mlp['activation'],\n",
    "        param_grid_mlp['learning_rate_init'],\n",
    "        param_grid_mlp['max_iter']\n",
    "    ):\n",
    "        model = MLP(input_size, hidden_sizes, num_classes, activation).to(device)\n",
    "        criterion = nn.CrossEntropyLoss()\n",
    "        optimizer = optim.Adam(model.parameters(), lr=lr)\n",
    "        \n",
    "        # Training loop\n",
    "        batch_size = 64\n",
    "        for epoch in range(epochs):\n",
    "            permutation = torch.randperm(X_train.size()[0])\n",
    "            model.train()\n",
    "            for i in range(0, X_train.size()[0], batch_size):\n",
    "                indices = permutation[i:i+batch_size]\n",
    "                batch_x = X_train[indices]\n",
    "                batch_y = y_train[indices]\n",
    "                \n",
    "                optimizer.zero_grad()\n",
    "                outputs = model(batch_x)\n",
    "                loss = criterion(outputs, batch_y)\n",
    "                loss.backward()\n",
    "                optimizer.step()\n",
    "        \n",
    "        # Evaluation\n",
    "        model.eval()\n",
    "        with torch.no_grad():\n",
    "            outputs = model(X_test)\n",
    "            _, predicted = torch.max(outputs, 1)\n",
    "            y_pred = predicted.cpu().numpy()\n",
    "            y_true = y_test.cpu().numpy()\n",
    "            # Convert labels back to original strings\n",
    "            y_test_labels = label_encoder.inverse_transform(y_true)\n",
    "            y_pred_labels = label_encoder.inverse_transform(y_pred)\n",
    "            report = classification_report(y_test_labels, y_pred_labels, output_dict=True)\n",
    "            f1_weighted = report['weighted avg']['f1-score']\n",
    "            if f1_weighted > best_f1:\n",
    "                best_f1 = f1_weighted\n",
    "                best_params = {\n",
    "                    'hidden_layer_sizes': hidden_sizes,\n",
    "                    'activation': activation,\n",
    "                    'learning_rate_init': lr,\n",
    "                    'max_iter': epochs\n",
    "                }\n",
    "                best_model = model\n",
    "    \n",
    "    # Print best parameters\n",
    "    print(\"Best Parameters:\", best_params)\n",
    "    \n",
    "    # Final evaluation on the test set\n",
    "    best_model.eval()\n",
    "    with torch.no_grad():\n",
    "        outputs = best_model(X_test)\n",
    "        _, predicted = torch.max(outputs, 1)\n",
    "        y_pred = predicted.cpu().numpy()\n",
    "        y_true = y_test.cpu().numpy()\n",
    "        y_test_labels = label_encoder.inverse_transform(y_true)\n",
    "        y_pred_labels = label_encoder.inverse_transform(y_pred)\n",
    "        print(\"MLP Classification Report:\")\n",
    "        print(classification_report(y_test_labels, y_pred_labels))\n",
    "        return classification_report(y_test_labels, y_pred_labels, output_dict=True)\n",
    "\n",
    "# Train and evaluate the MLP model\n",
    "metric_mlp = train_evaluate_mlp(X_train_tensor, X_test_tensor, y_train_tensor, y_test_tensor)\n",
    "\n",
    "# Store the results\n",
    "model_metrics['MLP'] = metric_mlp"
   ]
  },
  {
   "cell_type": "markdown",
   "metadata": {},
   "source": [
    "**Compare Results**"
   ]
  },
  {
   "cell_type": "code",
   "execution_count": null,
   "metadata": {},
   "outputs": [],
   "source": [
    "## snowflake embedding\n",
    "import matplotlib.pyplot as plt\n",
    "import seaborn as sns\n",
    "import pandas as pd\n",
    "\n",
    "# Convert the f-1 score dictionary to a DataFrame\n",
    "metrics_df = pd.DataFrame(model_metrics).T\n",
    "\n",
    "# Define a function to extract F1-scores from the nested dictionary\n",
    "def extract_f1_scores(value):\n",
    "    if isinstance(value, dict) and 'f1-score' in value:\n",
    "        return value['f1-score']\n",
    "    elif isinstance(value, (int, float)):\n",
    "        return value\n",
    "    return None\n",
    "\n",
    "# use the function to extract f1 scores\n",
    "f1_scores_df = metrics_df.applymap(extract_f1_scores)\n",
    "\n",
    "# only keed columns except macro avg\taccuracy\tweighted avg\n",
    "f1_scores_df = f1_scores_df.drop(columns=['macro avg', 'accuracy', 'weighted avg'])\n",
    "\n",
    "# Calculate the average F1-score for each category and sort categories in descending order\n",
    "average_f1_scores = f1_scores_df.mean(axis=0)\n",
    "categories_ordered = average_f1_scores.sort_values(ascending=False).index.tolist()\n",
    "\n",
    "# Update the column order of f1_scores_df\n",
    "f1_scores_df = f1_scores_df[categories_ordered]\n",
    "\n",
    "# Set font size to 23, set white background and palette\n",
    "sns.set_style(\"whitegrid\")\n",
    "plt.rcParams.update({'font.size': 23})\n",
    "\n",
    "# Use Seaborn color palette, ensuring greater color variation (more distinct bar colors for each category)\n",
    "palette = sns.color_palette(\"Oranges\", n_colors=len(f1_scores_df.index))\n",
    "\n",
    "# Reset index and convert to long format\n",
    "f1_scores_melted = f1_scores_df.reset_index().melt(id_vars='index', var_name='Category', value_name='F1-score')\n",
    "\n",
    "# Manually set the model order\n",
    "model_order = ['Logistic Regression', 'XGBoost', 'LightGBM', 'MLP']\n",
    "f1_scores_melted['index'] = pd.Categorical(f1_scores_melted['index'], categories=model_order, ordered=True)\n",
    "\n",
    "# Plot the bar chart\n",
    "plt.figure(figsize=(22, 6))\n",
    "ax = sns.barplot(data=f1_scores_melted, x='Category', y='F1-score', hue='index', palette=palette, alpha=0.8)\n",
    "\n",
    "# Set Y-axis and X-axis labels and increase font size\n",
    "plt.ylabel('F1-score', fontsize=30)\n",
    "plt.xlabel('SIMPLIFIED_CATEGORY', fontsize=30)\n",
    "plt.title(\"This Week's Result\", fontsize=28)\n",
    "plt.xticks(rotation=0, ha='center', fontsize=22)\n",
    "\n",
    "# Set Y-axis range from 0.5 to 1\n",
    "plt.ylim(0.5, 1)\n",
    "\n",
    "# Place the legend inside the plot, set to horizontal layout\n",
    "plt.legend(loc='upper center', bbox_to_anchor=(0.5, 1.05), ncol=4, fontsize=24, frameon=False)\n",
    "\n",
    "# Add value labels with reduced font size to 16\n",
    "for p in ax.patches:\n",
    "    if p.get_height() > 0:\n",
    "        ax.annotate(f'{p.get_height():.2f}', (p.get_x() + p.get_width() / 2., p.get_height()), \n",
    "                    ha='center', va='center', xytext=(0, 9), textcoords='offset points', fontsize=20)\n",
    "\n",
    "plt.tight_layout()\n",
    "plt.show()"
   ]
  },
  {
   "cell_type": "markdown",
   "metadata": {},
   "source": [
    "## **Part 4: Threshold Method**"
   ]
  },
  {
   "cell_type": "markdown",
   "metadata": {},
   "source": [
    "**Furthur Finetuning LightGBM**"
   ]
  },
  {
   "cell_type": "markdown",
   "metadata": {},
   "source": [
    "Changes include:\n",
    "\n",
    "(1) Shifted tuning goal from F-1 score to precision\n",
    "\n",
    "(2) Changed parameter search method from grid search to Bayesian Optimization for broader, more flexible parameter selection"
   ]
  },
  {
   "cell_type": "code",
   "execution_count": null,
   "metadata": {},
   "outputs": [],
   "source": [
    "model_precision_scores = {}\n",
    "\n",
    "import optuna\n",
    "from lightgbm import LGBMClassifier\n",
    "from sklearn.metrics import classification_report\n",
    "from sklearn.model_selection import cross_val_score\n",
    "import numpy as np\n",
    "\n",
    "# Ensure data types are float32 to reduce memory usage\n",
    "X_train_bal = X_train_bal.astype(np.float32)\n",
    "X_test_bal = X_test_bal.astype(np.float32)\n",
    "\n",
    "# Objective function for Optuna\n",
    "def objective(trial):\n",
    "    param = {\n",
    "        'n_estimators': trial.suggest_int('n_estimators', 50, 200),\n",
    "        'max_depth': trial.suggest_int('max_depth', 3, 10),\n",
    "        'learning_rate': trial.suggest_float('learning_rate', 0.01, 0.1, log=True),\n",
    "        'num_leaves': trial.suggest_int('num_leaves', 7, 127),\n",
    "        'subsample': trial.suggest_float('subsample', 0.7, 1.0),\n",
    "        'colsample_bytree': trial.suggest_float('colsample_bytree', 0.7, 1.0),\n",
    "        'reg_alpha': trial.suggest_float('reg_alpha', 0.0, 0.5),\n",
    "        'reg_lambda': trial.suggest_float('reg_lambda', 0.0, 0.5),\n",
    "        'min_child_samples': trial.suggest_int('min_child_samples', 20, 100),\n",
    "        'random_state': 42,\n",
    "        'device': 'gpu',\n",
    "        'gpu_device_id': 0,\n",
    "        'n_jobs': 1,\n",
    "        'verbose': -1\n",
    "    }\n",
    "    clf = LGBMClassifier(**param)\n",
    "    return cross_val_score(clf, X_train_bal, y_train_bal, cv=2, scoring='precision_weighted', n_jobs=1).mean()\n",
    "\n",
    "# Create and run Optuna study\n",
    "study = optuna.create_study(direction='maximize', study_name='LGBM Precision Optimization')\n",
    "study.optimize(objective, n_trials=100, timeout=36000)\n",
    "\n",
    "# Output the best parameters found\n",
    "print(\"\\nBest Parameters found:\", study.best_params)\n",
    "\n",
    "# Train the best model\n",
    "best_model = LGBMClassifier(\n",
    "    **study.best_params,\n",
    "    random_state=42,\n",
    "    device='gpu',\n",
    "    gpu_device_id=0,\n",
    "    n_jobs=1,\n",
    "    verbose=-1\n",
    ")\n",
    "best_model.fit(X_train_bal, y_train_bal)\n",
    "y_pred = best_model.predict(X_test_bal)\n",
    "\n",
    "# Convert labels back to original strings\n",
    "y_test_labels = label_encoder.inverse_transform(y_test_bal)\n",
    "y_pred_labels = label_encoder.inverse_transform(y_pred)\n",
    "\n",
    "# Print classification report\n",
    "print(\"\\nLightGBM Classification Report:\")\n",
    "print(classification_report(y_test_labels, y_pred_labels))\n",
    "\n",
    "# Save the classification report as a dictionary\n",
    "precision_scores_lgb = classification_report(y_test_labels, y_pred_labels, output_dict=True)\n",
    "model_precision_scores['LightGBM'] = precision_scores_lgb"
   ]
  },
  {
   "cell_type": "markdown",
   "metadata": {},
   "source": [
    "Best Parameters found: {\n",
    "    'colsample_bytree': 0.7715490096744506,\n",
    "    'learning_rate': 0.09741465956967921,\n",
    "    'max_depth': 9,\n",
    "    'min_child_samples': 37,\n",
    "    'n_estimators': 169,\n",
    "    'num_leaves': 90,\n",
    "    'reg_alpha': 0.09536592999298432,\n",
    "    'reg_lambda': 0.3981311006973933,\n",
    "    'subsample': 0.946224464192131,\n",
    "    'random_state': 42,\n",
    "    'device': 'gpu',\n",
    "    'gpu_device_id': 0,\n",
    "    'n_jobs': 1,\n",
    "    'verbose': -1\n",
    "}"
   ]
  },
  {
   "cell_type": "markdown",
   "metadata": {},
   "source": [
    "**Train LightGBM based on optimal parameters**"
   ]
  },
  {
   "cell_type": "code",
   "execution_count": null,
   "metadata": {},
   "outputs": [],
   "source": [
    "# Define the best parameters from previous optimization\n",
    "best_params = {\n",
    "    'colsample_bytree': 0.7715490096744506,\n",
    "    'learning_rate': 0.09741465956967921,\n",
    "    'max_depth': 9,\n",
    "    'min_child_samples': 37,\n",
    "    'n_estimators': 169,\n",
    "    'num_leaves': 90,\n",
    "    'reg_alpha': 0.09536592999298432,\n",
    "    'reg_lambda': 0.3981311006973933,\n",
    "    'subsample': 0.946224464192131,\n",
    "    'random_state': 42,\n",
    "    'device': 'gpu',\n",
    "    'gpu_device_id': 0,\n",
    "    'n_jobs': 1,\n",
    "    'verbose': -1\n",
    "}"
   ]
  },
  {
   "cell_type": "code",
   "execution_count": null,
   "metadata": {},
   "outputs": [],
   "source": [
    "import matplotlib.pyplot as plt\n",
    "import seaborn as sns\n",
    "from lightgbm import LGBMClassifier\n",
    "import numpy as np\n",
    "import pandas as pd\n",
    "from sklearn.preprocessing import LabelEncoder\n",
    "\n",
    "# Ensure data types are float32 to reduce memory usage\n",
    "X_train_bal = X_train_bal.astype(np.float32)\n",
    "X_test_bal = X_test_bal.astype(np.float32)\n",
    "\n",
    "# Train the model using the best parameters\n",
    "model = LGBMClassifier(**best_params)\n",
    "model.fit(X_train_bal, y_train_bal)\n",
    "\n",
    "# Predict probabilities\n",
    "y_proba = model.predict_proba(X_test_bal)\n",
    "\n",
    "# Encode labels if needed for consistent indexing\n",
    "label_encoder = LabelEncoder()\n",
    "y_test_bal_encoded = label_encoder.fit_transform(y_test_bal)\n",
    "label_names = label_encoder.inverse_transform(np.unique(y_test_bal_encoded))"
   ]
  },
  {
   "cell_type": "code",
   "execution_count": null,
   "metadata": {},
   "outputs": [
    {
     "name": "stdout",
     "output_type": "stream",
     "text": [
      "Encoded label 0 corresponds to OTHER\n",
      "Encoded label 1 corresponds to add_license OR remove_license\n",
      "Encoded label 2 corresponds to add_user OR remove_user\n",
      "Encoded label 3 corresponds to add_user_to_channel OR remove_user_from_channel\n",
      "Encoded label 4 corresponds to os_update\n",
      "Encoded label 5 corresponds to password_reset\n",
      "Encoded label 6 corresponds to reset_mfa\n",
      "Encoded label 7 corresponds to shipping_request\n"
     ]
    }
   ],
   "source": [
    "# Manually create label_map\n",
    "label_map = {\n",
    "    0: \"OTHER\",\n",
    "    1: \"add_license OR remove_license\",\n",
    "    2: \"add_user OR remove_user\",\n",
    "    3: \"add_user_to_channel OR remove_user_from_channel\",\n",
    "    4: \"os_update\",\n",
    "    5: \"password_reset\",\n",
    "    6: \"reset_mfa\",\n",
    "    7: \"shipping_request\"\n",
    "}\n",
    "\n",
    "# Print label_map to verify correctness\n",
    "for index, label_name in label_map.items():\n",
    "    print(f\"Encoded label {index} corresponds to {label_name}\")"
   ]
  },
  {
   "cell_type": "code",
   "execution_count": null,
   "metadata": {},
   "outputs": [],
   "source": [
    "from sklearn.metrics import precision_score, recall_score\n",
    "\n",
    "y_pred = np.argmax(y_proba, axis=1)\n",
    "precision = precision_score(y_test_bal_encoded, y_pred, average=None)\n",
    "recall = recall_score(y_test_bal_encoded, y_pred, average=None)\n",
    "\n",
    "# Store precision and recall results per label\n",
    "precision_recall_results = []\n",
    "for label, name in label_map.items():\n",
    "    precision_recall_results.append({\"Label\": name, \"Metric\": \"Precision\", \"Score\": precision[label]})\n",
    "    precision_recall_results.append({\"Label\": name, \"Metric\": \"Recall\", \"Score\": recall[label]})\n",
    "\n",
    "# Calculate overall precision and recall\n",
    "overall_precision = precision_score(y_test_bal_encoded, y_pred, average=\"macro\")\n",
    "overall_recall = recall_score(y_test_bal_encoded, y_pred, average=\"macro\")\n",
    "precision_recall_results.append({\"Label\": \"Overall\", \"Metric\": \"Precision\", \"Score\": overall_precision})\n",
    "precision_recall_results.append({\"Label\": \"Overall\", \"Metric\": \"Recall\", \"Score\": overall_recall})\n",
    "weighted_recall = recall_score(y_test_bal_encoded, y_pred, average=\"weighted\")"
   ]
  },
  {
   "cell_type": "markdown",
   "metadata": {},
   "source": [
    "**Top Threshold**"
   ]
  },
  {
   "cell_type": "code",
   "execution_count": null,
   "metadata": {},
   "outputs": [],
   "source": [
    "# Enhanced Thresholded Top-N Accuracy and sample output analysis with top_threshold\n",
    "top_thresholds = np.arange(0.0, 1.001, 0.001)  # 60%-100% with 1% intervals\n",
    "top_n_choices = [2]\n",
    "results_overall = {}\n",
    "two_label_probs = {}\n",
    "\n",
    "for top_threshold in top_thresholds:\n",
    "    correct_predictions = []\n",
    "    label_correct_counts = {label: 0 for label in np.unique(y_test_bal_encoded)}\n",
    "    label_total_counts = {label: 0 for label in np.unique(y_test_bal_encoded)}\n",
    "    two_label_count = 0  # Counter for two-label cases for current top_threshold\n",
    "    \n",
    "    # Loop through each test instance\n",
    "    for i in range(len(y_test_bal_encoded)):\n",
    "        probabilities = y_proba[i]\n",
    "        true_label = y_test_bal_encoded[i]\n",
    "        label_total_counts[true_label] += 1\n",
    "        \n",
    "        # Identify top-N indices and check if highest probability exceeds top_threshold\n",
    "        top_n_indices = np.argsort(probabilities)[-2:]\n",
    "        max_prob = probabilities[top_n_indices[-1]]\n",
    "        \n",
    "        # Check correctness and count two-label output\n",
    "        if max_prob > top_threshold:\n",
    "            prediction = np.argmax(probabilities)\n",
    "            is_correct = prediction == true_label\n",
    "        else:\n",
    "            is_correct = true_label in top_n_indices\n",
    "            two_label_count += 1 if len(top_n_indices) == 2 else 0\n",
    "            \n",
    "        correct_predictions.append(is_correct)\n",
    "        if is_correct:\n",
    "            label_correct_counts[true_label] += 1\n",
    "\n",
    "    # Calculate overall accuracy and two-label probability\n",
    "    overall_accuracy = sum(correct_predictions) / len(y_test_bal_encoded)\n",
    "    two_label_prob = two_label_count / len(y_test_bal_encoded)\n",
    "    results_overall[top_threshold] = overall_accuracy\n",
    "    two_label_probs[top_threshold] = two_label_prob"
   ]
  },
  {
   "cell_type": "markdown",
   "metadata": {},
   "source": [
    "**Gap Threshold**"
   ]
  },
  {
   "cell_type": "code",
   "execution_count": null,
   "metadata": {},
   "outputs": [],
   "source": [
    "# Gap-Threshold analysis for top-1 and top-2 probability differences\n",
    "gap_thresholds = np.arange(0.0, 1.001, 0.001)  # 10%-90% with 1% intervals\n",
    "gap_results_overall = {}\n",
    "gap_two_label_probs = {}\n",
    "\n",
    "for gap_threshold in gap_thresholds:\n",
    "    correct_predictions = []\n",
    "    label_correct_counts = {label: 0 for label in np.unique(y_test_bal_encoded)}\n",
    "    label_total_counts = {label: 0 for label in np.unique(y_test_bal_encoded)}\n",
    "    gap_two_label_count = 0  # Counter for two-label cases for current gap threshold\n",
    "    \n",
    "    # Loop through each test instance\n",
    "    for i in range(len(y_test_bal_encoded)):\n",
    "        probabilities = y_proba[i]\n",
    "        true_label = y_test_bal_encoded[i]\n",
    "        label_total_counts[true_label] += 1\n",
    "        \n",
    "        # Get top-1 and top-2 probabilities and calculate the difference\n",
    "        sorted_probs = np.sort(probabilities)\n",
    "        max_prob, second_max_prob = sorted_probs[-1], sorted_probs[-2]\n",
    "        prob_gap = max_prob - second_max_prob\n",
    "        \n",
    "        # Check correctness and count two-label output based on gap threshold\n",
    "        if prob_gap > gap_threshold:\n",
    "            prediction = np.argmax(probabilities)\n",
    "            is_correct = prediction == true_label\n",
    "        else:\n",
    "            is_correct = true_label in np.argsort(probabilities)[-2:]\n",
    "            gap_two_label_count += 1\n",
    "        \n",
    "        correct_predictions.append(is_correct)\n",
    "        if is_correct:\n",
    "            label_correct_counts[true_label] += 1\n",
    "\n",
    "    # Calculate overall accuracy and two-label probability for gap threshold\n",
    "    overall_accuracy = sum(correct_predictions) / len(y_test_bal_encoded)\n",
    "    gap_two_label_prob = gap_two_label_count / len(y_test_bal_encoded)\n",
    "    gap_results_overall[gap_threshold] = overall_accuracy\n",
    "    gap_two_label_probs[gap_threshold] = gap_two_label_prob"
   ]
  },
  {
   "cell_type": "markdown",
   "metadata": {},
   "source": [
    "**Save Results**"
   ]
  },
  {
   "cell_type": "code",
   "execution_count": null,
   "metadata": {},
   "outputs": [],
   "source": [
    "# save weighted_recall, top_thresholds, results_overall, two_label_probs, gap_thresholds, gap_results_overall, gap_two_label_probs\n",
    "np.save('weighted_recall.npy', weighted_recall)\n",
    "np.save('top_thresholds.npy', top_thresholds)\n",
    "np.save('results_overall.npy', results_overall)\n",
    "np.save('two_label_probs.npy', two_label_probs)\n",
    "np.save('gap_thresholds.npy', gap_thresholds)\n",
    "np.save('gap_results_overall.npy', gap_results_overall)\n",
    "np.save('gap_two_label_probs.npy', gap_two_label_probs)"
   ]
  },
  {
   "cell_type": "markdown",
   "metadata": {},
   "source": [
    "**Plot Results**"
   ]
  },
  {
   "cell_type": "markdown",
   "metadata": {},
   "source": [
    "Read Results"
   ]
  },
  {
   "cell_type": "code",
   "execution_count": null,
   "metadata": {},
   "outputs": [],
   "source": [
    "import numpy as np\n",
    "\n",
    "# Load the saved results\n",
    "weighted_recall = np.load('weighted_recall.npy')\n",
    "top_thresholds = np.load('top_thresholds.npy')\n",
    "results_overall = np.load('results_overall.npy', allow_pickle=True).item()\n",
    "two_label_probs = np.load('two_label_probs.npy', allow_pickle=True).item()\n",
    "gap_thresholds = np.load('gap_thresholds.npy')\n",
    "gap_results_overall = np.load('gap_results_overall.npy', allow_pickle=True).item()\n",
    "gap_two_label_probs = np.load('gap_two_label_probs.npy', allow_pickle=True).item()"
   ]
  },
  {
   "cell_type": "markdown",
   "metadata": {},
   "source": [
    "Trade-offs by Top Thresholds & Gap Thresholds"
   ]
  },
  {
   "cell_type": "code",
   "execution_count": null,
   "metadata": {},
   "outputs": [
    {
     "data": {
      "image/png": "[encoded data removed]",
      "text/plain": [
       "<Figure size 1400x1000 with 4 Axes>"
      ]
     },
     "metadata": {},
     "output_type": "display_data"
    }
   ],
   "source": [
    "import matplotlib.pyplot as plt\n",
    "import seaborn as sns\n",
    "import numpy as np\n",
    "from matplotlib.lines import Line2D\n",
    "from matplotlib.patches import Patch\n",
    "\n",
    "# Set style and color palettes\n",
    "sns.set_theme(style=\"whitegrid\")\n",
    "color_inclusive_probability = sns.color_palette(\"Blues\", 4)[2]\n",
    "color_two_label = sns.color_palette(\"Greens\", 4)[2]\n",
    "base_line_style = {\"color\": \"gray\", \"linestyle\": \"--\", \"linewidth\": 1.5}\n",
    "\n",
    "# Annotate turning and max points\n",
    "def annotate_max_point(ax, x, y, color, offset=(0.01, 0.005), threshold=0.02):\n",
    "    idx = np.argmax(x)\n",
    "    point_x, point_y = x[idx], y[idx]\n",
    "    ax.text(point_x + offset[0], point_y + offset[1], f'({point_x:.2f}, {point_y:.2f})', \n",
    "            ha='center', fontsize=10, color=color)\n",
    "    ax.plot(point_x, point_y, 'o', color=color, markersize=6)\n",
    "\n",
    "# Plot helper function\n",
    "def plot_curve(ax, x, y, title, xlabel, color, add_hline=False, ylim=None):\n",
    "    ax.fill_between(x, y, color=color, alpha=0.3)\n",
    "    ax.plot(x, y, color=color, linewidth=2)\n",
    "    if add_hline:\n",
    "        ax.axhline(weighted_recall, **base_line_style)\n",
    "        ax.text(1.02, weighted_recall, f'{weighted_recall:.2f}', color=\"gray\", va='center', fontsize=10, transform=ax.get_yaxis_transform())\n",
    "    ax.set_title(title, fontsize=14, weight='bold')\n",
    "    ax.set_xlabel(xlabel, fontsize=14)\n",
    "    if ylim:\n",
    "        ax.set_ylim(ylim)\n",
    "    ax.grid(True, linestyle=\"--\", alpha=0.6)\n",
    "\n",
    "# Initialize figure and subplots\n",
    "fig, axes = plt.subplots(2, 2, figsize=(14, 10), gridspec_kw={'wspace': 0.25, 'hspace': 0.1})\n",
    "\n",
    "# Plot Top Threshold curves\n",
    "plot_curve(axes[0, 0], top_thresholds, list(results_overall.values()), \n",
    "           \"Trade-off by Top Threshold\", \"\", color_inclusive_probability, add_hline=True, ylim=(0.82, 1))\n",
    "annotate_max_point(axes[0, 0], top_thresholds, list(results_overall.values()), color_inclusive_probability)\n",
    "\n",
    "plot_curve(axes[1, 0], top_thresholds, list(two_label_probs.values()), \n",
    "           \"\", \"Top Threshold\", color_two_label, ylim=(0, 1))\n",
    "\n",
    "# Plot Gap Threshold curves\n",
    "plot_curve(axes[0, 1], gap_thresholds, list(gap_results_overall.values()), \n",
    "           \"Trade-off by Gap Threshold\", \"\", color_inclusive_probability, add_hline=True, ylim=(0.82, 1))\n",
    "annotate_max_point(axes[0, 1], gap_thresholds, list(gap_results_overall.values()), color_inclusive_probability)\n",
    "\n",
    "plot_curve(axes[1, 1], gap_thresholds, list(gap_two_label_probs.values()), \n",
    "           \"\", \"Gap Threshold\", color_two_label, ylim=(0, 1))\n",
    "\n",
    "# Add legends\n",
    "inclusive_patch = Patch(color=color_inclusive_probability, alpha=0.3, label=\"Probability of Containing True Label\")\n",
    "two_label_patch = Patch(color=color_two_label, alpha=0.3, label=\"Probability of Outputting 2 Predictions\")\n",
    "base_line = Line2D([], [], **base_line_style, label=\"Overall Recall (Base)\")\n",
    "\n",
    "for ax, patch in zip([axes[0, 0], axes[0, 1]], [inclusive_patch, inclusive_patch]):\n",
    "    ax.legend(handles=[patch, base_line], loc=\"upper left\")\n",
    "for ax in [axes[1, 0], axes[1, 1]]:\n",
    "    ax.legend(handles=[two_label_patch], loc=\"upper left\")\n",
    "\n",
    "# Add text for definitions\n",
    "fig.text(0.15, 0.92, \"Top Threshold:\\nOutputs 2 predictions if highest probability is below threshold.\", \n",
    "         ha=\"left\", fontsize=10, bbox=dict(facecolor=\"white\", edgecolor=\"black\", boxstyle=\"round,pad=0.5\"))\n",
    "fig.text(0.55, 0.92, \"Gap Threshold:\\nOutputs 2 predictions if difference between top 2 probabilities is below threshold.\", \n",
    "         ha=\"left\", fontsize=10, bbox=dict(facecolor=\"white\", edgecolor=\"black\", boxstyle=\"round,pad=0.5\"))\n",
    "\n",
    "# Add dividing line\n",
    "fig.add_artist(plt.Line2D([0.5, 0.5], [0, 0.95], transform=fig.transFigure, color=\"gray\", linestyle=\"--\", linewidth=1))\n",
    "\n",
    "# Final adjustments\n",
    "plt.suptitle(\"Trade-offs by Top Thresholds & Gap Thresholds\", fontsize=16, weight='bold')\n",
    "plt.show()"
   ]
  },
  {
   "cell_type": "markdown",
   "metadata": {},
   "source": [
    "Simplified Trade-off on only Top Thresholds"
   ]
  },
  {
   "cell_type": "code",
   "execution_count": null,
   "metadata": {},
   "outputs": [
    {
     "data": {
      "image/png": "[encoded data removed]",
      "text/plain": [
       "<Figure size 1600x300 with 1 Axes>"
      ]
     },
     "metadata": {},
     "output_type": "display_data"
    }
   ],
   "source": [
    "# Set colors\n",
    "color_top_threshold = sns.color_palette(\"Blues\", 4)[1]\n",
    "color_top_threshold_arrow = sns.color_palette(\"Blues\", 4)[3]\n",
    "common_color = sns.color_palette(\"Greys\", 4)[3]\n",
    "color_base_line = sns.color_palette(\"Reds\", 4)[3]\n",
    "\n",
    "# Extract data for Top Threshold\n",
    "x_values_top = list(two_label_probs.values())  # Probability of Outputting 2 Predictions for Top Threshold\n",
    "y_values_top = list(results_overall.values())  # Probability of Containing True Label for Top Threshold\n",
    "\n",
    "# Extract data for Gap Threshold\n",
    "x_values_gap = list(gap_two_label_probs.values())  # Probability of Outputting 2 Predictions for Gap Threshold\n",
    "y_values_gap = list(gap_results_overall.values())  # Probability of Containing True Label for Gap Threshold\n",
    "\n",
    "# Calculate the y-value of the lowest point\n",
    "min_y_value = min(y_values_top + y_values_gap)\n",
    "\n",
    "# Create the chart\n",
    "plt.figure(figsize=(16, 3))\n",
    "\n",
    "# Plot the Top Threshold curve\n",
    "plt.plot(x_values_top, y_values_top, color=color_top_threshold, linewidth=3, label=\"Trade-off Curve\")\n",
    "\n",
    "# Add a gray dashed line passing through the lowest point and add a legend label\n",
    "plt.axhline(y=min_y_value, color=color_base_line, linestyle=\"--\", linewidth=1, label=\"Weighted Avg Recall (Base)\")\n",
    "\n",
    "# Add a numeric label of the lowest point dashed line on the right side\n",
    "plt.text(x_values_top[-1] + 0.01, min_y_value + 0.007, f'{min_y_value:.2f}', ha='left', va='center', color=color_base_line, fontsize=16)\n",
    "\n",
    "# Annotate points where x-coordinate is 0.2 and 0.6\n",
    "for x_target in [0.2, 0.6]:\n",
    "    # Find the points in Top Threshold and Gap Threshold closest to x_target\n",
    "    idx_top = np.argmin(np.abs(np.array(x_values_top) - x_target))\n",
    "    idx_gap = np.argmin(np.abs(np.array(x_values_gap) - x_target))\n",
    "\n",
    "    # Get the corresponding y-values\n",
    "    x_top, y_top = x_values_top[idx_top], y_values_top[idx_top]\n",
    "    x_gap, y_gap = x_values_gap[idx_gap], y_values_gap[idx_gap]\n",
    "\n",
    "    # Find the corresponding value in top_thresholds\n",
    "    top_threshold_value = top_thresholds[idx_top]\n",
    "\n",
    "    # Annotate the coordinate and description of the Top Threshold\n",
    "    plt.annotate(f\"Threshold: {top_threshold_value * 100:.0f}%\",  # Use the corresponding value from top_thresholds\n",
    "                 xy=(x_top, y_top), xytext=(x_top + 0.04, y_top - 0.03),\n",
    "                 arrowprops=dict(arrowstyle=\"->\", color=common_color), color=common_color, fontsize=16)\n",
    "\n",
    "    # Annotate the coordinate and description of the Gap Threshold\n",
    "    plt.plot(x_gap, y_gap, 'o', color=color_top_threshold_arrow, markersize=5)\n",
    "    plt.text(x_gap - 0.05, y_gap + 0.012, f'({x_gap:.2f}, {y_gap:.2f})', ha='center', va='top', fontsize=14, color=color_top_threshold_arrow)\n",
    "\n",
    "# Add annotations for the minimum and maximum points of Gap Threshold\n",
    "min_idx_gap = 0\n",
    "min_x_gap, min_y_gap = x_values_gap[min_idx_gap], y_values_gap[min_idx_gap]\n",
    "plt.plot(min_x_gap, min_y_gap, 'o', color=color_top_threshold_arrow, markersize=5)\n",
    "plt.text(min_x_gap + 0.01, min_y_gap - 0.013, f'Min ({min_x_gap:.2f}, {min_y_gap:.2f})', ha='center', color=color_top_threshold_arrow, fontsize=14)\n",
    "\n",
    "max_idx_gap = len(x_values_gap) - 1\n",
    "max_x_gap, max_y_gap = x_values_gap[max_idx_gap], y_values_gap[max_idx_gap]\n",
    "plt.plot(max_x_gap, max_y_gap, 'o', color=color_top_threshold_arrow, markersize=5)\n",
    "plt.text(max_x_gap, max_y_gap - 0.015, f'Max ({max_x_gap:.2f}, {max_y_gap:.2f})', ha='center', color=color_top_threshold_arrow, fontsize=14)\n",
    "\n",
    "# Add axis labels and title\n",
    "plt.xlabel(\"P(Outputting 2 Predictions)\", fontsize=18)\n",
    "plt.xticks(fontsize=16)\n",
    "plt.ylabel(\"P(Containing True Label)\", fontsize=18)\n",
    "plt.yticks(fontsize=16)\n",
    "plt.title(\"Trade-off Between Probability of Outputting 2 Predictions and Containing True Label\", fontsize=20, weight='bold')\n",
    "\n",
    "# Add grid and legend\n",
    "plt.grid(True, linestyle=\"--\", alpha=0.6)\n",
    "plt.legend(loc=\"upper left\", fontsize=13, ncol=1, bbox_to_anchor=(-0.007, 1.035))\n",
    "\n",
    "# Display the plot\n",
    "plt.show()"
   ]
  },
  {
   "cell_type": "markdown",
   "metadata": {},
   "source": [
    "## **Part 5: Application Prediction**"
   ]
  },
  {
   "cell_type": "markdown",
   "metadata": {},
   "source": [
    "**Upload Data to Snowflake** (Upload the 100 selected conversations to Snowflake)"
   ]
  },
  {
   "cell_type": "code",
   "execution_count": null,
   "metadata": {},
   "outputs": [],
   "source": [
    "import pandas as pd\n",
    "selected_100 = pd.read_csv('data_application_selected.csv')\n",
    "write_pandas(conn, selected_100, \"SELECTED_APPLICATION_100\", auto_create_table=True)"
   ]
  },
  {
   "cell_type": "markdown",
   "metadata": {},
   "source": [
    "**Use LLM (llama3.1-405b) to Get the Application**"
   ]
  },
  {
   "cell_type": "code",
   "execution_count": null,
   "metadata": {},
   "outputs": [],
   "source": [
    "cur = conn.cursor()\n",
    "\n",
    "cur.execute(\"\"\"\n",
    "CREATE OR REPLACE TABLE APPLICATION_SELECTED_PREDICTION_LLM_405B_100 AS\n",
    "SELECT \n",
    "    CONVERSATION_ID,\n",
    "    CONVERSATION_CHANNEL,\n",
    "    MESSAGE_PLUS_TRIAGE,\n",
    "    SIMPLIFIED_CATEGORY,\n",
    "    AGENT_LABELED_APPLICATION,\n",
    "    SNOWFLAKE.CORTEX.COMPLETE('llama3.1-405b',\n",
    "        CONCAT('Identify the application mentioned in the following conversation.\\n\n",
    "        The application list is: slack,microsoft_one_drive,know_be_4,adobe_stock,microsoft_teams,mural,miro,8_x_8,open_vpn,performyard,one_login,pager_duty,autodesk,contract_works,lever,cisco_webex,15_five,keynote,superhuman,hunter,fellow,envoy,peakon,promoter_io,hello_fax,hubstaff,jira,django,zoom_us,adobe_illustrator,cisco_meraki,lessonly,cloud_app,jump_cloud,intercom,eset,airtable,talk_desk,tech_data,snagit,mixpanel,opsgenie,adobe_after_effects,udemy,bill_com,go_to_meeting,cisco_umbrella,adobe_in_design,twilio,statuspage,bootcamp,grow,unbounce,jazz_hr,malwarebytes,docu_sign,teams_id,dashlane,notion,microsoft_word,loom,zoom_info,adobe_photoshop,lead_iq,bluebeam_revu,backupify,coder_pad,saleshood,blue_jeans,survey_monkey,fountain,ruckus,process_street,freshdesk,chartio,kahoot,speed_curve,microsoft_excel,lastpass,figma,metabase,clubhouse,ping_board,zoom_phone,lattice,datadog,harvest,user_testing,sketch,papyrs,camtasia,product_plan,log_me_in,loopio,text_expander,grasshopper,spanning_backup,egencia,litmus,klipfolio,recruitee,google_calendar,monday_com,adobe_creative_cloud,dropbox_business,microsoft_power_point,perimeter_81,sonic_wall_next_extender,adobe_acrobat,zendesk,greenhouse,connect_wise,box,confluence,wrike,gong,bit_defender,egnyte,crashplan,help_scout,sparkpost,teamwork_projects,whimsical,lucky_orange,drafted,google_mail,microsoft_outlook,google_workspace,kustomer,lucidchart,atlassian,calendly,send_grid,dialpad,pax_8,unifi_ubiquity,boomerang_for_gmail,trip_actions,envato,google_sheets,hello_sign,new_relic,sophos,panda_doc,google_docs,avast,vonage,hubspot,smartsheet,basecamp,sentinel_one,sellerboard,sketchup,frame_io,marketo,invision,thnks,okta,1_password,chrome,google_drive,abacus,adobe_sign,apple_mail,crowd_strike,google_voice,join_me,close_io,evernote,trello,apple_numbers,crowdstrike,canva,pivotal_tracker,outreach,ask_nicely,live_chat,proof_hub,proposify,uber_conference,type_form,microsoft_365,click_up,ring_central,virtru,share_point,expensify,guru,microsoft_one_note,asana,intermedia,google_hangouts,power_bi,google_forms,google_slides,mailchimp,guesty,vmw_fusion,zip_whip,air_call,mix_max,workable,customer_io,sendwithus,on_shape,groove.\\n\n",
    "        The conversation is shown as below:',\n",
    "        '<conversation>', \n",
    "        MESSAGE_PLUS_TRIAGE, \n",
    "        '</conversation>, \\n', 'Return only the name of the application from the list given. No explanation, no other content, just the application\\'s name exactly the same as given in the list. Do not use the name from the conversation, just the name from the list. If you cannot find any application in the conversation, make a guess based on what you think it might be. If you cannot recognize any application from the conversation, return None. Return only one application name from the list that you think is the most likely one being referenced in the conversation.')) as Application\n",
    "FROM SELECTED_APPLICATION_100\n",
    "\"\"\")"
   ]
  },
  {
   "cell_type": "markdown",
   "metadata": {},
   "source": [
    "**Download the LLM Results**"
   ]
  },
  {
   "cell_type": "code",
   "execution_count": 2,
   "metadata": {},
   "outputs": [],
   "source": [
    "# get LLM results for Application\n",
    "cur = conn.cursor()\n",
    "cur.execute(\"\"\"\n",
    "select * from APPLICATION_SELECTED_PREDICTION_LLM_405B_100\n",
    "\"\"\")\n",
    "\n",
    "# Fetch all the results from the query\n",
    "results = cur.fetchall()\n",
    "\n",
    "# Get the column names from the cursor description\n",
    "column_names = [desc[0] for desc in cur.description]\n",
    "\n",
    "# Convert the results into a pandas DataFrame\n",
    "application_list_online = pd.DataFrame(results, columns=column_names)"
   ]
  },
  {
   "cell_type": "code",
   "execution_count": 7,
   "metadata": {},
   "outputs": [],
   "source": [
    "application_list_online['APPLICATION'] = application_list_online['APPLICATION'].replace('microsoft_word', 'microsoft_365')\n",
    "application_list_online['APPLICATION'] = application_list_online['APPLICATION'].replace('microsoft_excel', 'microsoft_365')\n",
    "application_list_online['APPLICATION'] = application_list_online['APPLICATION'].replace('google_workspace', 'google_mail')"
   ]
  },
  {
   "cell_type": "markdown",
   "metadata": {},
   "source": [
    "**Calculate the Accuracy**"
   ]
  },
  {
   "cell_type": "code",
   "execution_count": null,
   "metadata": {},
   "outputs": [
    {
     "name": "stdout",
     "output_type": "stream",
     "text": [
      "Accuracy: 0.9500\n"
     ]
    }
   ],
   "source": [
    "#calculate accuracy\n",
    "from sklearn.metrics import accuracy_score\n",
    "accuracy = accuracy_score(application_list_online['AGENT_LABELED_APPLICATION'], application_list_online['APPLICATION'])\n",
    "print(f\"Accuracy: {accuracy:.4f}\")"
   ]
  }
 ],
 "metadata": {
  "kernelspec": {
   "display_name": "python3.12",
   "language": "python",
   "name": "python3"
  },
  "language_info": {
   "codemirror_mode": {
    "name": "ipython",
    "version": 3
   },
   "file_extension": ".py",
   "mimetype": "text/x-python",
   "name": "python",
   "nbconvert_exporter": "python",
   "pygments_lexer": "ipython3",
   "version": "3.12.2"
  }
 },
 "nbformat": 4,
 "nbformat_minor": 2
}
